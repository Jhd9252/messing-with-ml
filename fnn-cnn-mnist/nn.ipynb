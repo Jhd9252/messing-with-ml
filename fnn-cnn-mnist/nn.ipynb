{
 "cells": [
  {
   "cell_type": "markdown",
   "metadata": {},
   "source": [
    "# Implementing and Practicing FNN and CNN on MNIST Dataset"
   ]
  },
  {
   "cell_type": "code",
   "execution_count": null,
   "metadata": {},
   "outputs": [],
   "source": [
    "import torch\n",
    "import torch.nn as nn\n",
    "import torch.nn.functional as F \n",
    "import torch.optim as optim \n",
    "import torchvision\n",
    "from torchvision import datasets, transforms\n",
    "import matplotlib.pyplot as plt\n",
    "import numpy as np"
   ]
  },
  {
   "cell_type": "code",
   "execution_count": null,
   "metadata": {},
   "outputs": [],
   "source": [
    "\n",
    "device = torch.device(\"cuda:0\" if torch.cuda.is_available() else \"cpu\")"
   ]
  },
  {
   "cell_type": "code",
   "execution_count": null,
   "metadata": {},
   "outputs": [],
   "source": [
    "\n",
    "input_size  = 28*28   # images are 28x28 pixels\n",
    "output_size = 10      # there are 10 classes\n",
    "\n",
    "train_dataset = datasets.MNIST(\n",
    "    './data', \n",
    "    train=True,     # creates dataset subset from train-images-idx3-ubtye, not t10k-images-idx30ubyte\n",
    "    download=True,  # downloads dataset from internet and puts it in root directory. If not already downloaded. \n",
    "    transform=transforms.Compose( # composes several transforms together\n",
    "                # convert PIL or numpy.ndarray to tensor. \n",
    "                # From PIL (H, W, C) in range [0,255] to torch(C,H,W) in [0,1]\n",
    "              [transforms.ToTensor(), \n",
    "                # normalize a tensor image with mean and std. \n",
    "                # Does not support PIL. \n",
    "                # transforms is out of place, must assign\n",
    "                # param = (mean1, mean2...), (std1, std2,..) for n-channels\n",
    "               transforms.Normalize((0.1307,), (0.3081,))])) \n",
    "                                      \n",
    "train_loader = torch.utils.data.DataLoader(\n",
    "    train_dataset,  # dataloader represents python iterable over a dataset\n",
    "    batch_size=64,  # automatically collate individual fetched sampes into batches\n",
    "    shuffle=True)   # have data reshuffled at every epoch (def = False)\n",
    "\n",
    "test_dataset = datasets.MNIST(\n",
    "    './data', \n",
    "    train=False, \n",
    "    transform=transforms.Compose([transforms.ToTensor(),transforms.Normalize((0.1307,), (0.3081,))])\n",
    "                             )\n",
    "test_loader = torch.utils.data.DataLoader(test_dataset, batch_size=1000, shuffle=True)"
   ]
  },
  {
   "cell_type": "markdown",
   "metadata": {},
   "source": [
    "Previewing a single image from each of the 10 classes"
   ]
  },
  {
   "cell_type": "code",
   "execution_count": null,
   "metadata": {},
   "outputs": [
    {
     "name": "stderr",
     "output_type": "stream",
     "text": [
      "Clipping input data to the valid range for imshow with RGB data ([0..1] for floats or [0..255] for integers).\n"
     ]
    },
    {
     "data": {
      "text/plain": [
       "<matplotlib.image.AxesImage at 0x1ea7b388>"
      ]
     },
     "execution_count": 4,
     "metadata": {},
     "output_type": "execute_result"
    },
    {
     "data": {
      "image/png": "[encoded data removed]",
      "text/plain": [
       "<Figure size 432x288 with 1 Axes>"
      ]
     },
     "metadata": {
      "needs_background": "light"
     },
     "output_type": "display_data"
    }
   ],
   "source": [
    "# get 1 image from each class\n",
    "c = [x for x in range(10)]\n",
    "imgs = []\n",
    "for img, label in train_dataset:\n",
    "    if label in c:\n",
    "        imgs.append((img, label))\n",
    "        c.remove(label)\n",
    "    if len(c) == 0:\n",
    "        break\n",
    "\n",
    "# sort images according to label\n",
    "imgs = sorted(imgs, key = lambda x: x[1])\n",
    "imgs = [x[0] for x in imgs]\n",
    "\n",
    "# plot each image on a (2x5) grid\n",
    "grid = torchvision.utils.make_grid(imgs, nrow=5)\n",
    "\n",
    "# option 2 to display\n",
    "plt.imshow(grid.permute(1,2,0)) # or pick this"
   ]
  },
  {
   "cell_type": "markdown",
   "metadata": {},
   "source": [
    "FNN: Create a simple 3-layer FNN that takes in size 784, and outputs 1 of 10 classes. \n",
    "\n",
    "Hidden layer of size (8,8).\n",
    "\n",
    "We'll use ReLU non-linearity with a LogSoftmax function for the final layer. \n",
    "\n",
    "The model will have an architecture of:\n",
    "- linear_layer(input_size, n_hidden)\n",
    "- relu\n",
    "- linear_layer(n_hidden, n_hidden)\n",
    "- relu\n",
    "- linear_layer(n_hidden, output_size)\n",
    "- log_softmax"
   ]
  },
  {
   "cell_type": "code",
   "execution_count": null,
   "metadata": {},
   "outputs": [],
   "source": [
    "class FNN(nn.Module):\n",
    "    def __init__(self, input_size, n_hidden, output_size):\n",
    "        super(FNN, self).__init__()\n",
    "        self.input_size = input_size\n",
    "        self.n_hidden = n_hidden\n",
    "        self.output_size = output_size\n",
    "        self.flatten = nn.Flatten()\n",
    "        \n",
    "        self.linear_relu_flow = nn.Sequential(\n",
    "            # (64, 784)(784, 8) = (64, 8) (8, 8) = (64, 8) (8, 10) = (64, 10)\n",
    "            nn.Linear(self.input_size, self.n_hidden), # linear transformation\n",
    "            nn.ReLU(), # applies rectified linear unit function element-wise\n",
    "            nn.Linear(self.n_hidden, n_hidden),\n",
    "            nn.ReLU(),\n",
    "            nn.Linear(self.n_hidden, self.output_size),      \n",
    "            # dim - 0 is the batch dimension and gives the #samples in current batch, \n",
    "            # dim = 1 is the feature dimension and gives number of different features\n",
    "            nn.LogSoftmax(dim=1)\n",
    "            )\n",
    "        \n",
    "    def forward(self, x):\n",
    "        x = self.flatten(x)\n",
    "        logits = self.linear_relu_flow(x) # send input through sequentially\n",
    "        return logits"
   ]
  },
  {
   "cell_type": "markdown",
   "metadata": {},
   "source": [
    "### Define train and test function\n",
    "\n",
    "We'll define our loss function as cross entropy. \n",
    "\n",
    "Note:\n",
    "- `permute` is a function passed as an argument to train and test functions.\n",
    "- `permutation_order` is a 1D torch array of size 784 (=28*28). It contains the random order for permutating the pixels in the `28x28` images."
   ]
  },
  {
   "cell_type": "code",
   "execution_count": null,
   "metadata": {},
   "outputs": [],
   "source": [
    "def train(epoch, model, optimizer, permute_pixels = None, permutation_order = None):\n",
    "    model.train()\n",
    "    loss_fn = nn.CrossEntropyLoss()\n",
    "    for batch_idx, (data, target) in enumerate(train_loader):\n",
    "\n",
    "        # make sure all vars have the same device as model\n",
    "        data, target = data.to(device), target.to(device)\n",
    "\n",
    "        # permute the pixels if set\n",
    "        if permute_pixels is not None:\n",
    "            data = permute_pixels(data, permutation_order)\n",
    "        \n",
    "        # compute predict error\n",
    "        output = model.forward(data) # model.forward(data) \n",
    "        loss = loss_fn(output, target)\n",
    "        \n",
    "        # back propagation\n",
    "        optimizer.zero_grad()   # erase all gradients before computing new one\n",
    "        loss.backward()         # compute gradients of params w.r.t. loss (chain rule)\n",
    "        optimizer.step()        # update weights using gradients and learning rate\n",
    "        \n",
    "        if batch_idx % 100 == 0:\n",
    "            print('Train Epoch: {} [{}/{} ({:.0f}%)]\\tLoss: {:.6f}'.format(\n",
    "                epoch, batch_idx * len(data), len(train_loader.dataset),\n",
    "                100. * batch_idx / len(train_loader), loss.item()))\n",
    "    \n",
    "\n",
    "            \n",
    "def test(model, permute_pixels = None, permutation_order = None):\n",
    "    model.eval()\n",
    "    test_loss, correct = 0, 0\n",
    "    loss_fn = nn.CrossEntropyLoss()\n",
    "\n",
    "    for data, target in test_loader:\n",
    "        data, target = data.to(device), target.to(device)\n",
    "\n",
    "        if permute_pixels is not None:\n",
    "            data = permute_pixels(data, permutation_order)\n",
    "        \n",
    "        output = model.forward(data) \n",
    "        test_loss += loss_fn(output, target).item() \n",
    "        \n",
    "        # torch.max(tensor) -> produces deterministic (sub) gradients\n",
    "        # torch.argmax(tensor) returns indices of max values of a tensor across dim\n",
    "\n",
    "        pred = output   # obtain index of the max log-probability       \n",
    "        correct += (pred.argmax(1) == target).type(torch.float).sum().item()  \n",
    "    \n",
    "    test_loss /= len(test_loader.dataset)\n",
    "    accuracy = 100. * correct / len(test_loader.dataset)\n",
    "    print('\\nTest set: Average loss: {:.4f}, Accuracy: {}/{} ({:.0f}%)\\n'.format(\n",
    "        test_loss, correct, len(test_loader.dataset),\n",
    "        accuracy))\n",
    "    return accuracy"
   ]
  },
  {
   "cell_type": "markdown",
   "metadata": {},
   "source": [
    "### Computing the total parameter count of the model"
   ]
  },
  {
   "cell_type": "code",
   "execution_count": null,
   "metadata": {},
   "outputs": [],
   "source": [
    "# function to computing the total parameter count of the model\n",
    "def get_n_params(model):\n",
    "    return sum(p.numel() for p in model.parameters() if p.requires_grad) # trainable only"
   ]
  },
  {
   "cell_type": "markdown",
   "metadata": {},
   "source": [
    "### Train a small fully-connected network"
   ]
  },
  {
   "cell_type": "code",
   "execution_count": null,
   "metadata": {},
   "outputs": [
    {
     "name": "stdout",
     "output_type": "stream",
     "text": [
      "Number of parameters: 6442\n",
      "Train Epoch: 0 [0/60000 (0%)]\tLoss: 2.360872\n",
      "Train Epoch: 0 [6400/60000 (11%)]\tLoss: 1.834459\n",
      "Train Epoch: 0 [12800/60000 (21%)]\tLoss: 1.011341\n",
      "Train Epoch: 0 [19200/60000 (32%)]\tLoss: 0.524063\n",
      "Train Epoch: 0 [25600/60000 (43%)]\tLoss: 0.448661\n",
      "Train Epoch: 0 [32000/60000 (53%)]\tLoss: 0.414314\n",
      "Train Epoch: 0 [38400/60000 (64%)]\tLoss: 0.332942\n",
      "Train Epoch: 0 [44800/60000 (75%)]\tLoss: 0.446152\n",
      "Train Epoch: 0 [51200/60000 (85%)]\tLoss: 0.489850\n",
      "Train Epoch: 0 [57600/60000 (96%)]\tLoss: 0.325390\n",
      "\n",
      "Test set: Average loss: 0.0004, Accuracy: 8881.0/10000 (89%)\n",
      "\n"
     ]
    }
   ],
   "source": [
    "n_hidden = 8\n",
    "model_fnn = FNN(input_size, n_hidden, output_size)\n",
    "model_fnn.to(device)\n",
    "optimizer = optim.SGD(model_fnn.parameters(), lr = 0.01, momentum = 0.5) # use SGD with learning rate 0.01 and momentum 0.5\n",
    "print('Number of parameters: {}'.format(get_n_params(model_fnn)))\n",
    "\n",
    "test_accuracy = []\n",
    "for epoch in range(0, 1):\n",
    "    train(epoch, model_fnn, optimizer)\n",
    "    test_accuracy.append(test(model_fnn))"
   ]
  },
  {
   "cell_type": "markdown",
   "metadata": {},
   "source": [
    "### Convolutional Neural Network (CNN) on MNIST"
   ]
  },
  {
   "cell_type": "markdown",
   "metadata": {},
   "source": [
    "We'll define a CNN with the following architecture:\n",
    "\n",
    "\n",
    "Conv:\n",
    "- conv2D(input_size, conv_feature, kernel_size=5)\n",
    "- relu()\n",
    "- maxpool2d(kernel_size=2)\n",
    "- conv2d(conv_feature, conv_feature, kernel_size=5)\n",
    "- relu()\n",
    "- maxpool2d(kernel_size=2)\n",
    "\n",
    "\n",
    "FC:\n",
    "- linear_feature(conv_feature*4*4, fc_feature),\n",
    "- relu(),\n",
    "- linear_feature(fc_feature, output_size),\n",
    "- log_softmax()\n",
    "\n"
   ]
  },
  {
   "cell_type": "code",
   "execution_count": null,
   "metadata": {},
   "outputs": [],
   "source": [
    "class CNN(nn.Module):\n",
    "\n",
    "    def __init__(self, input_size, conv_features, fc_features, output_size):\n",
    "        super(CNN, self).__init__()\n",
    "        self.input_size = input_size\n",
    "        self.conv_features = conv_features\n",
    "        self.fc_features = fc_features\n",
    "        self.output_size = output_size\n",
    "        self.flatten = nn.Flatten()\n",
    "\n",
    "        self.conv_flow = nn.Sequential(\n",
    "            # (in_channels = 1, out_channels = 6, kernel = 5)\n",
    "            nn.Conv2d(1, self.conv_features, kernel_size = 5), \n",
    "            nn.ReLU(),\n",
    "            nn.MaxPool2d(kernel_size = 2),\n",
    "            # (in = 6 channels, out = 6 channels, kernep = 5)\n",
    "            nn.Conv2d(self.conv_features, self.conv_features, kernel_size =5),\n",
    "            nn.ReLU(),\n",
    "            nn.MaxPool2d(kernel_size = 2)\n",
    "            )\n",
    "        \n",
    "        self.fc_flow = nn.Sequential(\n",
    "            # recall (m x n)(n x k) = m x k\n",
    "            # right now after conv = (64, 6, 4, 4)\n",
    "            # input size = 96, output size = 50\n",
    "            nn.Linear(self.conv_features*4*4, self.fc_features),\n",
    "            nn.ReLU(),\n",
    "            # linear shape (50, 10)\n",
    "            nn.Linear(self.fc_features, self.output_size),\n",
    "            nn.LogSoftmax(dim = 1)\n",
    "            )\n",
    "   \n",
    "    def forward(self, x):\n",
    "        # batch, channel, height, width       \n",
    "        conv_res = self.conv_flow(x)\n",
    "        logits = self.fc_flow(torch.reshape(conv_res, (x.shape[0], 96))) # 64, 96\n",
    "        \n",
    "        return logits"
   ]
  },
  {
   "cell_type": "markdown",
   "metadata": {},
   "source": [
    "### Train a ConvNet with the same number of parameters"
   ]
  },
  {
   "cell_type": "code",
   "execution_count": null,
   "metadata": {},
   "outputs": [
    {
     "name": "stdout",
     "output_type": "stream",
     "text": [
      "Number of parameters: 6422\n",
      "Train Epoch: 0 [0/60000 (0%)]\tLoss: 2.328197\n",
      "Train Epoch: 0 [6400/60000 (11%)]\tLoss: 1.921420\n",
      "Train Epoch: 0 [12800/60000 (21%)]\tLoss: 0.783491\n",
      "Train Epoch: 0 [19200/60000 (32%)]\tLoss: 0.366673\n",
      "Train Epoch: 0 [25600/60000 (43%)]\tLoss: 0.169559\n",
      "Train Epoch: 0 [32000/60000 (53%)]\tLoss: 0.201823\n",
      "Train Epoch: 0 [38400/60000 (64%)]\tLoss: 0.193366\n",
      "Train Epoch: 0 [44800/60000 (75%)]\tLoss: 0.165167\n",
      "Train Epoch: 0 [51200/60000 (85%)]\tLoss: 0.116980\n",
      "Train Epoch: 0 [57600/60000 (96%)]\tLoss: 0.108496\n",
      "\n",
      "Test set: Average loss: 0.0002, Accuracy: 9468.0/10000 (95%)\n",
      "\n"
     ]
    }
   ],
   "source": [
    "input_size  = 28*28     # images are 28x28 pixels = 784\n",
    "conv_features = 6       # number of feature maps\n",
    "fc_features = 50\n",
    "output_size = 10       \n",
    "\n",
    "model_cnn = CNN(input_size, conv_features, fc_features, output_size) \n",
    "model_cnn.to(device)\n",
    "optimizer = optim.SGD(model_cnn.parameters(), lr = 0.01, momentum = 0.5) \n",
    "print('Number of parameters: {}'.format(get_n_params(model_cnn)))\n",
    "\n",
    "test_accuracy = []\n",
    "for epoch in range(0, 1):\n",
    "    train(epoch, model_cnn, optimizer)\n",
    "    test_accuracy.append(test(model_cnn))"
   ]
  },
  {
   "cell_type": "markdown",
   "metadata": {},
   "source": [
    "CNNs are more specific-purpose networks. It works off the assumption that the inputs are images, taking advantage of local spatial structures and adjacent pixels. Weight sharing by applying the same filter at all regions of an image allows better feature extraction, while max pooling reduces overfitting. This indicates that at every training iteration, CNNs should have a steeper decrease in loss than FNNs which is true by observation. \n",
    "\n",
    "On the other hand, FNNs generally has losses in spatial information since all output nodes are connected to all input nodes. And since FNN does not share weights, they are less equiped for feature extraction. Intuitively, then it makes sense that at during training, losses decrease much slower than CNNs. \n",
    "\n",
    "Also, FNNs are structure agnostic, so they are widely applicable, with no assumptions made on input. Likewise they tend to be weaker against specific-purpose networks like CNN. \n",
    "\n",
    "We can prove this by permuting the input images and testing again between FNN and CNN"
   ]
  },
  {
   "cell_type": "code",
   "execution_count": null,
   "metadata": {},
   "outputs": [],
   "source": [
    "# Given a permutation order, permute the pixels of the input image\n",
    "def permute_pixels(data, permutation_order):\n",
    "    \"\"\"\n",
    "    Permute the pixels of the input image\n",
    "    \n",
    "    Args:\n",
    "        data (torch tensor): batch of input images of shape (Batch, H, W) \n",
    "        permutation_order (1D torch array): order of the permutation\n",
    "    \n",
    "    Returns:\n",
    "        permuted_data (torch tensor): permuted batch of input images of shape (B, 1, H, W)\n",
    "    \"\"\"\n",
    "    # torch.stack(seq of tensors, dim) concats sequence of tensors\n",
    "    # x.view(*shape) returns new tensor with the same data as slef but of different shape\n",
    "    # x.view(-1) flattens the tensor if it wasn't already\n",
    "    # x.view(-1) acceess those indexes and views them in permutation order for every image in data along batch dim.\n",
    "    permuted_data = torch.stack([x.view(-1)[permutation_order].view(1,28,28) for x in data], dim = 0)\n",
    "    return permuted_data"
   ]
  },
  {
   "cell_type": "code",
   "execution_count": 12,
   "metadata": {},
   "outputs": [
    {
     "data": {
      "image/png": "[encoded data removed]",
      "text/plain": [
       "<Figure size 1152x864 with 20 Axes>"
      ]
     },
     "metadata": {
      "needs_background": "light"
     },
     "output_type": "display_data"
    }
   ],
   "source": [
    "permutation_order = torch.randperm(28*28)\n",
    "\n",
    "plt.figure(figsize=(16, 12))\n",
    "for i in range(10):\n",
    "    image, _ = train_loader.dataset.__getitem__(i)\n",
    "    # permute pixels\n",
    "    image_perm = permute_pixels(image.clone(), permutation_order)\n",
    "    plt.subplot(4, 5, i + 1)\n",
    "    plt.imshow(image.squeeze().numpy())\n",
    "    plt.axis('off')\n",
    "    plt.subplot(4, 5, i + 11)\n",
    "    plt.imshow(image_perm.squeeze().numpy())\n",
    "    plt.axis('off')"
   ]
  },
  {
   "cell_type": "markdown",
   "metadata": {},
   "source": [
    "### CNN with permuted pixels\n"
   ]
  },
  {
   "cell_type": "code",
   "execution_count": null,
   "metadata": {},
   "outputs": [
    {
     "name": "stdout",
     "output_type": "stream",
     "text": [
      "Number of parameters: 6422\n",
      "Train Epoch: 0 [0/60000 (0%)]\tLoss: 2.351170\n",
      "Train Epoch: 0 [6400/60000 (11%)]\tLoss: 2.279015\n",
      "Train Epoch: 0 [12800/60000 (21%)]\tLoss: 2.250471\n",
      "Train Epoch: 0 [19200/60000 (32%)]\tLoss: 2.152046\n",
      "Train Epoch: 0 [25600/60000 (43%)]\tLoss: 1.712092\n",
      "Train Epoch: 0 [32000/60000 (53%)]\tLoss: 1.313443\n",
      "Train Epoch: 0 [38400/60000 (64%)]\tLoss: 0.841296\n",
      "Train Epoch: 0 [44800/60000 (75%)]\tLoss: 0.859609\n",
      "Train Epoch: 0 [51200/60000 (85%)]\tLoss: 0.797248\n",
      "Train Epoch: 0 [57600/60000 (96%)]\tLoss: 0.709577\n",
      "\n",
      "Test set: Average loss: 0.0007, Accuracy: 7929.0/10000 (79%)\n",
      "\n"
     ]
    }
   ],
   "source": [
    "conv_features = 6 # number of feature maps\n",
    "fc_features = 50\n",
    "\n",
    "model_cnn = CNN(input_size, conv_features, fc_features, output_size)  \n",
    "model_cnn.to(device)\n",
    "optimizer = optim.SGD(model_cnn.parameters(), lr = 0.01, momentum = 0.5) \n",
    "print('Number of parameters: {}'.format(get_n_params(model_cnn)))\n",
    "\n",
    "for epoch in range(0, 1):\n",
    "    train(epoch, model_cnn, optimizer, permute_pixels, permutation_order)\n",
    "    test(model_cnn, permute_pixels, permutation_order)"
   ]
  },
  {
   "cell_type": "markdown",
   "metadata": {},
   "source": [
    "### FNN with Permuted Pixels"
   ]
  },
  {
   "cell_type": "code",
   "execution_count": null,
   "metadata": {},
   "outputs": [
    {
     "name": "stdout",
     "output_type": "stream",
     "text": [
      "Number of parameters: 6442\n",
      "Train Epoch: 0 [0/60000 (0%)]\tLoss: 2.321096\n",
      "Train Epoch: 0 [6400/60000 (11%)]\tLoss: 1.802657\n",
      "Train Epoch: 0 [12800/60000 (21%)]\tLoss: 1.046307\n",
      "Train Epoch: 0 [19200/60000 (32%)]\tLoss: 0.734225\n",
      "Train Epoch: 0 [25600/60000 (43%)]\tLoss: 0.617375\n",
      "Train Epoch: 0 [32000/60000 (53%)]\tLoss: 0.628350\n",
      "Train Epoch: 0 [38400/60000 (64%)]\tLoss: 0.609503\n",
      "Train Epoch: 0 [44800/60000 (75%)]\tLoss: 0.528814\n",
      "Train Epoch: 0 [51200/60000 (85%)]\tLoss: 0.478630\n",
      "Train Epoch: 0 [57600/60000 (96%)]\tLoss: 0.505369\n",
      "\n",
      "Test set: Average loss: 0.0004, Accuracy: 8879.0/10000 (89%)\n",
      "\n"
     ]
    }
   ],
   "source": [
    "n_hidden = 8    \n",
    "\n",
    "model_fnn = FNN(input_size, n_hidden, output_size) \n",
    "model_fnn.to(device)\n",
    "optimizer = optim.SGD(model_fnn.parameters(), lr = 0.01, momentum = 0.5) \n",
    "print('Number of parameters: {}'.format(get_n_params(model_fnn)))\n",
    "\n",
    "for epoch in range(0, 1):\n",
    "    train(epoch, model_fnn, optimizer, permute_pixels)\n",
    "    test(model_fnn, permute_pixels)"
   ]
  },
  {
   "cell_type": "markdown",
   "metadata": {},
   "source": [
    "A comparison would be a jigsaw puzzle. A set of pieces that have can complete clear picture is easier to recognize or identify. \n",
    "\n",
    "On the other hand, a set of pieces that resemble an abstract or distorted painting when complete will be harder to identify. \n",
    "\n",
    "CNNs work with locally spacial structures within the data. They learn local spatial patterns within the different regions of the same image, different samples of the same class, and etc. \n",
    "\n",
    "The first few layers usually learn edges, corners, shapes etc. Since individual pixels were permutated, this is partially destroyed, even if the same permutation was formed on every image. \n",
    "\n",
    "FNNs on the other hand, do not weight share, with no assumptions on the input (such as CNNs expecting images). There is less emphasis on feature extraction like with CNNs. \n",
    "\n",
    "Therefore although the pixels were permutated, FNN retains its performance, while CNN dropped performance. "
   ]
  }
 ],
 "metadata": {
  "kernelspec": {
   "display_name": "Python 3 (ipykernel)",
   "language": "python",
   "name": "python3"
  },
  "language_info": {
   "codemirror_mode": {
    "name": "ipython",
    "version": 3
   },
   "file_extension": ".py",
   "mimetype": "text/x-python",
   "name": "python",
   "nbconvert_exporter": "python",
   "pygments_lexer": "ipython3",
   "version": "3.7.4"
  },
  "vscode": {
   "interpreter": {
    "hash": "fc6f77fc95e5420108aa348103e4498d1d0de016cf7e1fd7da540445454c305d"
   }
  }
 },
 "nbformat": 4,
 "nbformat_minor": 2
}
