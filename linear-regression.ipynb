{
 "cells": [
  {
   "cell_type": "markdown",
   "metadata": {
    "tags": []
   },
   "source": [
    "### Exploring Linear Regression"
   ]
  },
  {
   "cell_type": "code",
   "execution_count": 19,
   "metadata": {},
   "outputs": [],
   "source": [
    "import numpy as np\n",
    "import pandas as pd\n",
    "from collections import OrderedDict\n",
    "from sklearn.model_selection import train_test_split\n",
    "from sklearn.linear_model import LinearRegression\n",
    "from sklearn.metrics import mean_squared_error, r2_score\n",
    "import matplotlib.pyplot as plt\n",
    "import seaborn as sns\n",
    "\n",
    "%matplotlib inline"
   ]
  },
  {
   "cell_type": "markdown",
   "metadata": {},
   "source": [
    "### Load Dataset (California Housing dataset from sklearn)"
   ]
  },
  {
   "cell_type": "code",
   "execution_count": 20,
   "metadata": {},
   "outputs": [],
   "source": [
    "# Load dataset\n",
    "from sklearn.datasets import fetch_california_housing\n",
    "housing = fetch_california_housing()"
   ]
  },
  {
   "cell_type": "markdown",
   "metadata": {},
   "source": [
    "### Create a Pandas DataFrame to Analyze the dataset"
   ]
  },
  {
   "cell_type": "code",
   "execution_count": 102,
   "metadata": {},
   "outputs": [
    {
     "data": {
      "text/html": [
       "<div>\n",
       "<style scoped>\n",
       "    .dataframe tbody tr th:only-of-type {\n",
       "        vertical-align: middle;\n",
       "    }\n",
       "\n",
       "    .dataframe tbody tr th {\n",
       "        vertical-align: top;\n",
       "    }\n",
       "\n",
       "    .dataframe thead th {\n",
       "        text-align: right;\n",
       "    }\n",
       "</style>\n",
       "<table border=\"1\" class=\"dataframe\">\n",
       "  <thead>\n",
       "    <tr style=\"text-align: right;\">\n",
       "      <th></th>\n",
       "      <th>MedInc</th>\n",
       "      <th>HouseAge</th>\n",
       "      <th>AveRooms</th>\n",
       "      <th>AveBedrms</th>\n",
       "      <th>Population</th>\n",
       "      <th>AveOccup</th>\n",
       "      <th>Latitude</th>\n",
       "      <th>Longitude</th>\n",
       "      <th>target</th>\n",
       "    </tr>\n",
       "  </thead>\n",
       "  <tbody>\n",
       "    <tr>\n",
       "      <th>0</th>\n",
       "      <td>8.3252</td>\n",
       "      <td>41.0</td>\n",
       "      <td>6.984127</td>\n",
       "      <td>1.023810</td>\n",
       "      <td>322.0</td>\n",
       "      <td>2.555556</td>\n",
       "      <td>37.88</td>\n",
       "      <td>-122.23</td>\n",
       "      <td>4.526</td>\n",
       "    </tr>\n",
       "    <tr>\n",
       "      <th>1</th>\n",
       "      <td>8.3014</td>\n",
       "      <td>21.0</td>\n",
       "      <td>6.238137</td>\n",
       "      <td>0.971880</td>\n",
       "      <td>2401.0</td>\n",
       "      <td>2.109842</td>\n",
       "      <td>37.86</td>\n",
       "      <td>-122.22</td>\n",
       "      <td>3.585</td>\n",
       "    </tr>\n",
       "    <tr>\n",
       "      <th>2</th>\n",
       "      <td>7.2574</td>\n",
       "      <td>52.0</td>\n",
       "      <td>8.288136</td>\n",
       "      <td>1.073446</td>\n",
       "      <td>496.0</td>\n",
       "      <td>2.802260</td>\n",
       "      <td>37.85</td>\n",
       "      <td>-122.24</td>\n",
       "      <td>3.521</td>\n",
       "    </tr>\n",
       "    <tr>\n",
       "      <th>3</th>\n",
       "      <td>5.6431</td>\n",
       "      <td>52.0</td>\n",
       "      <td>5.817352</td>\n",
       "      <td>1.073059</td>\n",
       "      <td>558.0</td>\n",
       "      <td>2.547945</td>\n",
       "      <td>37.85</td>\n",
       "      <td>-122.25</td>\n",
       "      <td>3.413</td>\n",
       "    </tr>\n",
       "    <tr>\n",
       "      <th>4</th>\n",
       "      <td>3.8462</td>\n",
       "      <td>52.0</td>\n",
       "      <td>6.281853</td>\n",
       "      <td>1.081081</td>\n",
       "      <td>565.0</td>\n",
       "      <td>2.181467</td>\n",
       "      <td>37.85</td>\n",
       "      <td>-122.25</td>\n",
       "      <td>3.422</td>\n",
       "    </tr>\n",
       "  </tbody>\n",
       "</table>\n",
       "</div>"
      ],
      "text/plain": [
       "   MedInc  HouseAge  AveRooms  AveBedrms  Population  AveOccup  Latitude  \\\n",
       "0  8.3252      41.0  6.984127   1.023810       322.0  2.555556     37.88   \n",
       "1  8.3014      21.0  6.238137   0.971880      2401.0  2.109842     37.86   \n",
       "2  7.2574      52.0  8.288136   1.073446       496.0  2.802260     37.85   \n",
       "3  5.6431      52.0  5.817352   1.073059       558.0  2.547945     37.85   \n",
       "4  3.8462      52.0  6.281853   1.081081       565.0  2.181467     37.85   \n",
       "\n",
       "   Longitude  target  \n",
       "0    -122.23   4.526  \n",
       "1    -122.22   3.585  \n",
       "2    -122.24   3.521  \n",
       "3    -122.25   3.413  \n",
       "4    -122.25   3.422  "
      ]
     },
     "execution_count": 102,
     "metadata": {},
     "output_type": "execute_result"
    }
   ],
   "source": [
    "# Put the dataset along with the target variable in a pandas dataframe\n",
    "data = pd.DataFrame(housing.data, columns=housing.feature_names)\n",
    "\n",
    "# Add target column to data\n",
    "data['target'] = housing['target']\n",
    "data.head()\n"
   ]
  },
  {
   "cell_type": "markdown",
   "metadata": {},
   "source": [
    "### Check for missing values in the dataset\n",
    "\n",
    "The dataset might have missing values represented by a `NaN`. Check if the dataset has such missing values."
   ]
  },
  {
   "cell_type": "code",
   "execution_count": 103,
   "metadata": {
    "deletable": false,
    "nbgrader": {
     "cell_type": "code",
     "checksum": "676197ad93aa1aa19b1e3898da4c017c",
     "grade": false,
     "grade_id": "p1a",
     "locked": false,
     "schema_version": 3,
     "solution": true,
     "task": false
    },
    "tags": []
   },
   "outputs": [
    {
     "name": "stdout",
     "output_type": "stream",
     "text": [
      "The data has no missing values.\n"
     ]
    }
   ],
   "source": [
    "# Check for missing values by presence of None, NaN, -inf values. \n",
    "boolNan = data.isnull().values.any()\n",
    "boolInf = np.isinf(data)\n",
    "\n",
    "\n",
    "print(f\"The data has{'' if boolNan and boolInf else ' no'} missing values.\")\n",
    "assert not is_null(data)"
   ]
  },
  {
   "cell_type": "markdown",
   "metadata": {
    "tags": []
   },
   "source": [
    "### EDA: Checking target distribution"
   ]
  },
  {
   "cell_type": "code",
   "execution_count": 104,
   "metadata": {
    "deletable": false,
    "nbgrader": {
     "cell_type": "code",
     "checksum": "b8d012221610349c7d2434b577a4ce32",
     "grade": true,
     "grade_id": "p1b",
     "locked": false,
     "points": 1,
     "schema_version": 3,
     "solution": true,
     "task": false
    },
    "tags": []
   },
   "outputs": [
    {
     "data": {
      "image/png": "[encoded data removed]",
      "text/plain": [
       "<Figure size 640x480 with 1 Axes>"
      ]
     },
     "metadata": {},
     "output_type": "display_data"
    }
   ],
   "source": [
    "# Plot histogram of target variable\n",
    "plt.xlabel(\"Target\")\n",
    "plt.ylabel(\"Count\")\n",
    "plt.hist(data['target'], bins = 30, rwidth = .8)\n",
    "plt.show()"
   ]
  },
  {
   "cell_type": "markdown",
   "metadata": {},
   "source": [
    "### Feature Exploration: Plotting the correlation matrix"
   ]
  },
  {
   "cell_type": "code",
   "execution_count": 105,
   "metadata": {
    "deletable": false,
    "nbgrader": {
     "cell_type": "code",
     "checksum": "b083172c548f71f3f9515e487a868fa1",
     "grade": false,
     "grade_id": "p1c",
     "locked": false,
     "schema_version": 3,
     "solution": true,
     "task": false
    },
    "tags": []
   },
   "outputs": [
    {
     "data": {
      "text/plain": [
       "<Axes: >"
      ]
     },
     "execution_count": 105,
     "metadata": {},
     "output_type": "execute_result"
    },
    {
     "data": {
      "image/png": "[encoded data removed]",
      "text/plain": [
       "<Figure size 640x480 with 2 Axes>"
      ]
     },
     "metadata": {},
     "output_type": "display_data"
    }
   ],
   "source": [
    "# Plot the correlation matrix\n",
    "correlation_matrix = data.corr().round(2)\n",
    "# annot = True to print the values inside the square\n",
    "sns.heatmap(data=correlation_matrix, annot=True)"
   ]
  },
  {
   "cell_type": "markdown",
   "metadata": {},
   "source": [
    "Let's check the correlations in a list view. We just want to see which features have the most direct linear relationship with the target feature, therefore absolute values are used. "
   ]
  },
  {
   "cell_type": "code",
   "execution_count": 106,
   "metadata": {},
   "outputs": [
    {
     "data": {
      "text/plain": [
       "MedInc        0.69\n",
       "AveRooms      0.15\n",
       "Latitude      0.14\n",
       "HouseAge      0.11\n",
       "AveBedrms     0.05\n",
       "Longitude     0.05\n",
       "AveOccup      0.02\n",
       "Population    0.02\n",
       "Name: target, dtype: float64"
      ]
     },
     "execution_count": 106,
     "metadata": {},
     "output_type": "execute_result"
    }
   ],
   "source": [
    "feature_abs = abs(correlation_matrix.iloc[:8, 8])\n",
    "feature_abs.sort_values(ascending=False, inplace = True)\n",
    "feature_abs"
   ]
  },
  {
   "cell_type": "markdown",
   "metadata": {},
   "source": [
    "We see from the absolute values that the features MedInc, AveRooms, Latitude and HouseAge have the highest correlation to our target. This includes both positive and negative influences. Intuitively we can see this makes sense. A higher number of rooms indicates more property, space, and possibly economic average of a neighborhood. Latitude for instance, determines the weather or climate of the location. It makes sense that. For simple exploration on this basic dataset, viewing the sorted correlations can give a quick view of what we are working with. "
   ]
  },
  {
   "cell_type": "markdown",
   "metadata": {},
   "source": [
    "## Data Manipulation: \n",
    "We want to format the data in a way that is conducive to the linear regression model. \n",
    "E.g. methods such as normalization"
   ]
  },
  {
   "cell_type": "markdown",
   "metadata": {},
   "source": [
    "#### Normalize the dataset\n",
    "We'll normalize the dataset ourselves to practice.\n",
    "Normalizing the simple way, involves finding the mean and standard deviation of each feature. \n",
    "Using those values, for each entry of that feature, we subtract the mean, and divide by the standard distribution. "
   ]
  },
  {
   "cell_type": "code",
   "execution_count": 107,
   "metadata": {
    "deletable": false,
    "nbgrader": {
     "cell_type": "code",
     "checksum": "71860eb9c74a47052a1d855b229b0083",
     "grade": false,
     "grade_id": "p2a",
     "locked": false,
     "schema_version": 3,
     "solution": true,
     "task": false
    },
    "tags": []
   },
   "outputs": [],
   "source": [
    "\n",
    "features = np.concatenate([data[name].to_numpy()[:, None] for name in housing['feature_names']], axis=1)\n",
    "target = housing['target']\n",
    "\n",
    "def normalize(features, target):\n",
    "    df_features = pd.DataFrame(features)\n",
    "    df_target = pd.DataFrame(target)\n",
    "\n",
    "    for col in df_features.columns:\n",
    "        df_features[col] = (df_features[col] - df_features[col].mean()) / df_features[col].std()\n",
    "        \n",
    "    for col in df_target.columns:\n",
    "        df_target[col] = (df_target[col] - df_target[col].mean()) / df_target[col].std()\n",
    "        \n",
    "    normFeat = df_features.to_numpy()\n",
    "    normTarget = df_target.to_numpy()\n",
    "    return normFeat, normTarget\n",
    "\n",
    "features_normalized, target_normalized = normalize(features, target)"
   ]
  },
  {
   "cell_type": "code",
   "execution_count": 108,
   "metadata": {
    "deletable": false,
    "editable": false,
    "nbgrader": {
     "cell_type": "code",
     "checksum": "6cd6918ed1d597848bbd2c42e3eee9de",
     "grade": true,
     "grade_id": "p2a-test",
     "locked": true,
     "points": 1,
     "schema_version": 3,
     "solution": false,
     "task": false
    },
    "tags": []
   },
   "outputs": [],
   "source": [
    "# === DO NOT MOVE/DELETE === Check that our means are near zero, and our standard deviations are near one. \n",
    "assert all(features_normalized.mean(axis=0) < 1e-2), \"Mean should be close to 0\"\n",
    "assert all(features_normalized.std(axis=0) - 1 < 1e-2), \"Standard deviation should be close to 1\"\n",
    "assert np.abs(target_normalized.mean(axis=0) < 1e-2), \"Mean should be close to 0\"\n",
    "assert np.abs(target_normalized.std(axis=0) - 1 < 1e-2), \"Standard deviation should be close to 1\""
   ]
  },
  {
   "cell_type": "markdown",
   "metadata": {},
   "source": [
    "### Train-Test Split\n",
    "\n",
    "We will use the conventional 80-20 split for the train-test split of this dataset. \n",
    "The linear regression model will be trained on the 80 portion, while tested on the smaller portion. \n",
    "SKLearn has an easy train_test_split(features, target, test_size) function."
   ]
  },
  {
   "cell_type": "code",
   "execution_count": 109,
   "metadata": {
    "deletable": false,
    "nbgrader": {
     "cell_type": "code",
     "checksum": "e24ac49c957cd3d0a2b12fe65992c0da",
     "grade": false,
     "grade_id": "p2b",
     "locked": false,
     "schema_version": 3,
     "solution": true,
     "task": false
    },
    "tags": []
   },
   "outputs": [],
   "source": [
    "# split the data \n",
    "X_train, X_test, Y_train, Y_test = train_test_split(features_normalized, target_normalized, test_size = 0.2, random_state=(1))"
   ]
  },
  {
   "cell_type": "code",
   "execution_count": 110,
   "metadata": {
    "deletable": false,
    "editable": false,
    "nbgrader": {
     "cell_type": "code",
     "checksum": "6205e4ce42238093a9f51eca8c65f5a7",
     "grade": true,
     "grade_id": "p2b-test",
     "locked": true,
     "points": 1,
     "schema_version": 3,
     "solution": false,
     "task": false
    },
    "tags": []
   },
   "outputs": [
    {
     "name": "stdout",
     "output_type": "stream",
     "text": [
      "(16512, 8)\n",
      "(4128, 8)\n",
      "(16512, 1)\n",
      "(4128, 1)\n"
     ]
    }
   ],
   "source": [
    "# sanity test the shapes of our splits\n",
    "assert(X_train.shape[1] == 8), 'X_train has the incorrect number of features'\n",
    "assert(X_test.shape[1] == 8), 'X_test has the incorrect number of features'\n",
    "assert(Y_train.shape[1] == 1) , 'Y_train should only have the target column'\n",
    "assert(Y_test.shape[1] == 1), 'Y_test should only have the target column'\n",
    "\n",
    "print(X_train.shape)\n",
    "print(X_test.shape)\n",
    "print(Y_train.shape)\n",
    "print(Y_test.shape)"
   ]
  },
  {
   "cell_type": "markdown",
   "metadata": {},
   "source": [
    "## Part 3: Linear Regression\n",
    "\n",
    "In this part, a linear regression model will be used to fit the dataset loaded and normalized above.\n",
    "\n",
    "We'll implement closed-form OLS regression with the prediction output as RMSE and $R^2$ \n",
    "\n",
    "The closed-form OLS equation is 'theta'=$(X^T * X)^{-1} * X^T * Y$"
   ]
  },
  {
   "cell_type": "code",
   "execution_count": 111,
   "metadata": {
    "deletable": false,
    "nbgrader": {
     "cell_type": "code",
     "checksum": "874d0e119337f0c28ef1696777ff83f9",
     "grade": true,
     "grade_id": "p3a",
     "locked": false,
     "points": 1,
     "schema_version": 3,
     "solution": true,
     "task": false
    },
    "tags": []
   },
   "outputs": [],
   "source": [
    "class MyLinearRegression:\n",
    "    def __init__(self):\n",
    "        # type: ndarray\n",
    "        self.theta = None\n",
    "    \n",
    "    def fit(self, X, Y):\n",
    "        # Given X and Y, compute theta using the closed-form solution for linear regression.\n",
    "        # theta is now a ndarray\n",
    "        copyX = np.array(X)\n",
    "        copyY = np.array(Y)\n",
    "        term1 = np.linalg.inv(np.transpose(copyX).dot(copyX))\n",
    "        term2 = np.transpose(copyX).dot(copyY)\n",
    "        self.theta = term1.dot(term2)\n",
    "    \n",
    "    def predict(self, X):\n",
    "        # Predict Y for a given X\n",
    "        res = X.dot(self.theta)\n",
    "        return res"
   ]
  },
  {
   "cell_type": "code",
   "execution_count": 112,
   "metadata": {},
   "outputs": [],
   "source": [
    "# Train the model on (X_train, Y_train) using Linear Regression \n",
    "my_model = MyLinearRegression()\n",
    "my_model.fit(X_train, Y_train)"
   ]
  },
  {
   "cell_type": "code",
   "execution_count": 120,
   "metadata": {},
   "outputs": [
    {
     "name": "stdout",
     "output_type": "stream",
     "text": [
      "\n",
      "\n",
      "Performance for Personal Linear Regression on All Normalized Data: \n",
      "--------------------------------------\n",
      "Train RMSE is 0.6782393368028877\n",
      "Train R2 score is 0.5415454375862339\n",
      "Test RMSE is 0.6757163469657428\n",
      "Test R2 score is 0.5364719898751233\n",
      "\n",
      "\n"
     ]
    }
   ],
   "source": [
    "from sklearn.metrics import mean_squared_error, r2_score\n",
    "\n",
    "y_train_predict = my_model.predict(X_train)\n",
    "train_rmse = (np.sqrt(mean_squared_error(Y_train, y_train_predict)))\n",
    "train_r2 = r2_score(Y_train, y_train_predict)\n",
    "\n",
    "y_test_predict = my_model.predict(X_test)\n",
    "test_rmse = (np.sqrt(mean_squared_error(Y_test, y_test_predict)))\n",
    "test_r2 = r2_score(Y_test, y_test_predict)\n",
    "\n",
    "\n",
    "print(\"\\n\")\n",
    "print(\"Performance for Personal Linear Regression on All Normalized Data: \")\n",
    "print(\"--------------------------------------\")\n",
    "print('Train RMSE is {}'.format(train_rmse))\n",
    "print('Train R2 score is {}'.format(train_r2))\n",
    "print('Test RMSE is {}'.format(test_rmse))\n",
    "print('Test R2 score is {}'.format(test_r2))\n",
    "print(\"\\n\")\n"
   ]
  },
  {
   "cell_type": "markdown",
   "metadata": {},
   "source": [
    "#### Compare with the LinearRegression from sklearn.linear_model\n",
    "To ensure we implemented OLS linear regression correctly, let's compare our model to the one from SKLearn"
   ]
  },
  {
   "cell_type": "code",
   "execution_count": 122,
   "metadata": {},
   "outputs": [
    {
     "name": "stdout",
     "output_type": "stream",
     "text": [
      "Performance for sklearn Linear Regression on All Normalized Data: \n",
      "--------------------------------------\n",
      "Train RMSE is 0.678218448836547\n",
      "Train R2 score is 0.5415736755119581\n",
      "Test RMSE is 0.6759049950618269\n",
      "Test R2 score is 0.5362131360428868\n",
      "\n",
      "\n"
     ]
    }
   ],
   "source": [
    "model = LinearRegression().fit(X_train, Y_train)\n",
    "\n",
    "# model evaluation for training set\n",
    "y_train_predict = model.predict(X_train)\n",
    "sklearn_train_rmse = (np.sqrt(mean_squared_error(Y_train, y_train_predict)))\n",
    "sklearn_train_r2 = r2_score(Y_train, y_train_predict)\n",
    "\n",
    "# model evaluation for testing set\n",
    "y_test_predict = model.predict(X_test)\n",
    "sklearn_test_rmse = (np.sqrt(mean_squared_error(Y_test, y_test_predict)))\n",
    "sklearn_test_r2 = r2_score(Y_test, y_test_predict)\n",
    "\n",
    "print(\"Performance for sklearn Linear Regression on All Normalized Data: \")\n",
    "print(\"--------------------------------------\")\n",
    "print('Train RMSE is {}'.format(sklearn_train_rmse))\n",
    "print('Train R2 score is {}'.format(sklearn_train_r2))\n",
    "print('Test RMSE is {}'.format(sklearn_test_rmse))\n",
    "print('Test R2 score is {}'.format(sklearn_test_r2))\n",
    "print(\"\\n\")"
   ]
  },
  {
   "cell_type": "markdown",
   "metadata": {},
   "source": [
    "We can see that our model is extremely similar in performance to the SKLearn provided model. "
   ]
  },
  {
   "cell_type": "markdown",
   "metadata": {},
   "source": [
    "#### For fun, let's check the difference between normalized and unnormalized data performance. \n",
    "\n"
   ]
  },
  {
   "cell_type": "code",
   "execution_count": 123,
   "metadata": {},
   "outputs": [
    {
     "name": "stdout",
     "output_type": "stream",
     "text": [
      "Performance of All Un-Normalized Data: \n",
      "--------------------------------------\n",
      "Test RMSE is 0.7751329760975735\n",
      "Test R2 score is 0.5419415073430147\n",
      "The absolute difference of RMSE: 0.09941662913183069\n",
      "The absolute difference of R2: 0.005469517467891372\n",
      "\n",
      "\n"
     ]
    }
   ],
   "source": [
    "# All Unnormalized data vs all normalized data\n",
    "X_train, X_test, Y_train, Y_test = train_test_split(data.iloc[:,:8], data.iloc[:,8], test_size = 0.2, random_state=(1))\n",
    "my_model = MyLinearRegression()\n",
    "my_model.fit(X_train, Y_train)\n",
    "\n",
    "y_test_predict = my_model.predict(X_test)\n",
    "test_rmse_unnormal= (np.sqrt(mean_squared_error(Y_test, y_test_predict)))\n",
    "test_r2_unnormal = r2_score(Y_test, y_test_predict)\n",
    "\n",
    "print(\"Performance of All Un-Normalized Data: \")\n",
    "print(\"--------------------------------------\")\n",
    "print('Test RMSE is {}'.format(test_rmse_unnormal))\n",
    "print('Test R2 score is {}'.format(test_r2_unnormal))\n",
    "print('The absolute difference of RMSE: {}'.format(abs(test_rmse - test_rmse_unnormal)))\n",
    "print('The absolute difference of R2: {}'.format(abs(test_r2 - test_r2_unnormal)))\n",
    "print(\"\\n\")"
   ]
  },
  {
   "cell_type": "markdown",
   "metadata": {},
   "source": [
    "We can easily see that the performance degrades if we don't normalize the features and target. A lower RMSE indicates a better fit and less overall residuals from the actual data points. Meanwhile, the $R^2$ is the coefficient of determination. It is the proportion of the variance of the target variable that can be explained by the features."
   ]
  },
  {
   "cell_type": "markdown",
   "metadata": {},
   "source": [
    "### Check what happens when we train on all features versus only the top 5 relevant features. Both are normalized. \n",
    "\n"
   ]
  },
  {
   "cell_type": "code",
   "execution_count": 124,
   "metadata": {},
   "outputs": [
    {
     "name": "stdout",
     "output_type": "stream",
     "text": [
      "Performance of Top 5 Normalized Features: \n",
      "--------------------------------------\n",
      "Test RMSE is 0.6757163469657428\n",
      "Test R2 score is 0.5364719898751233\n",
      "The absolute difference of RMSE: 0.0\n",
      "The absolute difference of R2: 0.0\n",
      "\n",
      "\n"
     ]
    }
   ],
   "source": [
    "top5 =  mostRel(correlation_matrix) # #medinc (0), averooms(2), lat(6), house age(1), avebedrms (3)\n",
    "df_normFeat = pd.DataFrame(features_normalized)\n",
    "X_train, X_test, Y_train, Y_test = train_test_split(df_normFeat.iloc[:,[0,1,2,3,6]], target_normalized, test_size = 0.2, random_state=(1))\n",
    "my_model = MyLinearRegression()\n",
    "my_model.fit(X_train, Y_train)\n",
    "\n",
    "y_test_predict = my_model.predict(X_test)\n",
    "test_rmse_top5 = (np.sqrt(mean_squared_error(Y_test, y_test_predict)))\n",
    "test_r2_top5 = r2_score(Y_test, y_test_predict)\n",
    "\n",
    "print(\"Performance of Top 5 Normalized Features: \")\n",
    "print(\"--------------------------------------\")\n",
    "print('Test RMSE is {}'.format(test_rmse_top5))\n",
    "print('Test R2 score is {}'.format(test_r2_top5))\n",
    "print('The absolute difference of RMSE: {}'.format(abs(test_rmse - test_rmse_top5)))\n",
    "print('The absolute difference of R2: {}'.format(abs(test_r2 - test_r2_top5)))\n",
    "print(\"\\n\")"
   ]
  },
  {
   "cell_type": "markdown",
   "metadata": {},
   "source": [
    "We see here that there is little difference in performance when predicting on the test set. Often times, we only need a few powerful features that account for most of the variance. Feature selection also allows generalization of the model when in production. "
   ]
  }
 ],
 "metadata": {
  "kernelspec": {
   "display_name": ".venv (3.12.3)",
   "language": "python",
   "name": "python3"
  },
  "language_info": {
   "codemirror_mode": {
    "name": "ipython",
    "version": 3
   },
   "file_extension": ".py",
   "mimetype": "text/x-python",
   "name": "python",
   "nbconvert_exporter": "python",
   "pygments_lexer": "ipython3",
   "version": "3.12.3"
  }
 },
 "nbformat": 4,
 "nbformat_minor": 4
}
