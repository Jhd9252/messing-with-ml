{
 "cells": [
  {
   "cell_type": "markdown",
   "metadata": {
    "id": "355LmyCRd_sZ"
   },
   "source": [
    "# Case Study: ProPublica's Analysis of the COMPAS Tool\n",
    "\n",
    "Goal: Be introduced into the topic of fairness by following a ProPublica published analysis of the COMPAS tool. The article was referenced in a Ethics of Machine Learning and Data Science undergraduate course. This notebook's template was recreated for further practice. \n",
    "\n",
    "Article: https://www.propublica.org/article/machine-bias-risk-assessments-in-criminal-sentencing\n",
    "\n",
    "Data Collection: https://www.propublica.org/article/how-we-analyzed-the-compas-recidivism-algorithm\n",
    "\n",
    "COMPAS stands for Correctional Offender Management Profiling for Alternative Sanctions. It's a proprietary tool which generates a risk score for trial defendants. \n",
    "The published article focuses on the recidivism score, which states to provide the likelihood of recidivism within two years of defendant assessment. \n",
    "\n",
    "ProPublica focused on racial bias in the COMPAS algorithm. In general terms, ProPublica analyzed (i) how the *risk scores* vary by race and (ii) the extent to which the *risk labels* assigned to defendants matches up with their observed recidivism and how this varies by race. We will (approximately) reproduce this analysis below.\n",
    "\n",
    "The process of following along the ProPublica analysis will be to \n",
    "1. Import the data, pre-process the data\n",
    "2. Exploratory data analysis\n",
    "3. Analysis of COMPAS recidivism score which is our primary variable of focus, and how it scales with attributes like race and sex. \n",
    "4. Reproduce the report's logistic regression model \n",
    "5. Compute predictive accuracy of the risk labels. \n",
    "\n"
   ]
  },
  {
   "cell_type": "code",
   "execution_count": 1,
   "metadata": {
    "cellView": "form",
    "colab": {
     "base_uri": "https://localhost:8080/"
    },
    "id": "hWQEryWrr7qH",
    "outputId": "d5338842-7e5e-497d-c97f-39f6a2270dc0"
   },
   "outputs": [],
   "source": [
    "import math\n",
    "import pandas as pd\n",
    "import numpy as np\n",
    "import statsmodels.api as sm\n",
    "import matplotlib\n",
    "import matplotlib.pyplot as plt\n",
    "import seaborn as sns"
   ]
  },
  {
   "cell_type": "code",
   "execution_count": null,
   "metadata": {
    "cellView": "form",
    "colab": {
     "base_uri": "https://localhost:8080/",
     "height": 392
    },
    "id": "O5B1icC-sbBg",
    "outputId": "81fab871-3d94-4b11-be11-7ccdc009649c"
   },
   "outputs": [
    {
     "name": "stdout",
     "output_type": "stream",
     "text": [
      "Shape:  (7214, 53)\n"
     ]
    },
    {
     "data": {
      "text/html": [
       "<div>\n",
       "<style scoped>\n",
       "    .dataframe tbody tr th:only-of-type {\n",
       "        vertical-align: middle;\n",
       "    }\n",
       "\n",
       "    .dataframe tbody tr th {\n",
       "        vertical-align: top;\n",
       "    }\n",
       "\n",
       "    .dataframe thead th {\n",
       "        text-align: right;\n",
       "    }\n",
       "</style>\n",
       "<table border=\"1\" class=\"dataframe\">\n",
       "  <thead>\n",
       "    <tr style=\"text-align: right;\">\n",
       "      <th></th>\n",
       "      <th>id</th>\n",
       "      <th>name</th>\n",
       "      <th>first</th>\n",
       "      <th>last</th>\n",
       "      <th>compas_screening_date</th>\n",
       "      <th>sex</th>\n",
       "      <th>dob</th>\n",
       "      <th>age</th>\n",
       "      <th>age_cat</th>\n",
       "      <th>race</th>\n",
       "      <th>...</th>\n",
       "      <th>v_decile_score</th>\n",
       "      <th>v_score_text</th>\n",
       "      <th>v_screening_date</th>\n",
       "      <th>in_custody</th>\n",
       "      <th>out_custody</th>\n",
       "      <th>priors_count.1</th>\n",
       "      <th>start</th>\n",
       "      <th>end</th>\n",
       "      <th>event</th>\n",
       "      <th>two_year_recid</th>\n",
       "    </tr>\n",
       "  </thead>\n",
       "  <tbody>\n",
       "    <tr>\n",
       "      <th>0</th>\n",
       "      <td>1</td>\n",
       "      <td>miguel hernandez</td>\n",
       "      <td>miguel</td>\n",
       "      <td>hernandez</td>\n",
       "      <td>2013-08-14</td>\n",
       "      <td>Male</td>\n",
       "      <td>1947-04-18</td>\n",
       "      <td>69</td>\n",
       "      <td>Greater than 45</td>\n",
       "      <td>Other</td>\n",
       "      <td>...</td>\n",
       "      <td>1</td>\n",
       "      <td>Low</td>\n",
       "      <td>2013-08-14</td>\n",
       "      <td>2014-07-07</td>\n",
       "      <td>2014-07-14</td>\n",
       "      <td>0</td>\n",
       "      <td>0</td>\n",
       "      <td>327</td>\n",
       "      <td>0</td>\n",
       "      <td>0</td>\n",
       "    </tr>\n",
       "    <tr>\n",
       "      <th>1</th>\n",
       "      <td>3</td>\n",
       "      <td>kevon dixon</td>\n",
       "      <td>kevon</td>\n",
       "      <td>dixon</td>\n",
       "      <td>2013-01-27</td>\n",
       "      <td>Male</td>\n",
       "      <td>1982-01-22</td>\n",
       "      <td>34</td>\n",
       "      <td>25 - 45</td>\n",
       "      <td>African-American</td>\n",
       "      <td>...</td>\n",
       "      <td>1</td>\n",
       "      <td>Low</td>\n",
       "      <td>2013-01-27</td>\n",
       "      <td>2013-01-26</td>\n",
       "      <td>2013-02-05</td>\n",
       "      <td>0</td>\n",
       "      <td>9</td>\n",
       "      <td>159</td>\n",
       "      <td>1</td>\n",
       "      <td>1</td>\n",
       "    </tr>\n",
       "    <tr>\n",
       "      <th>2</th>\n",
       "      <td>4</td>\n",
       "      <td>ed philo</td>\n",
       "      <td>ed</td>\n",
       "      <td>philo</td>\n",
       "      <td>2013-04-14</td>\n",
       "      <td>Male</td>\n",
       "      <td>1991-05-14</td>\n",
       "      <td>24</td>\n",
       "      <td>Less than 25</td>\n",
       "      <td>African-American</td>\n",
       "      <td>...</td>\n",
       "      <td>3</td>\n",
       "      <td>Low</td>\n",
       "      <td>2013-04-14</td>\n",
       "      <td>2013-06-16</td>\n",
       "      <td>2013-06-16</td>\n",
       "      <td>4</td>\n",
       "      <td>0</td>\n",
       "      <td>63</td>\n",
       "      <td>0</td>\n",
       "      <td>1</td>\n",
       "    </tr>\n",
       "    <tr>\n",
       "      <th>3</th>\n",
       "      <td>5</td>\n",
       "      <td>marcu brown</td>\n",
       "      <td>marcu</td>\n",
       "      <td>brown</td>\n",
       "      <td>2013-01-13</td>\n",
       "      <td>Male</td>\n",
       "      <td>1993-01-21</td>\n",
       "      <td>23</td>\n",
       "      <td>Less than 25</td>\n",
       "      <td>African-American</td>\n",
       "      <td>...</td>\n",
       "      <td>6</td>\n",
       "      <td>Medium</td>\n",
       "      <td>2013-01-13</td>\n",
       "      <td>NaN</td>\n",
       "      <td>NaN</td>\n",
       "      <td>1</td>\n",
       "      <td>0</td>\n",
       "      <td>1174</td>\n",
       "      <td>0</td>\n",
       "      <td>0</td>\n",
       "    </tr>\n",
       "    <tr>\n",
       "      <th>4</th>\n",
       "      <td>6</td>\n",
       "      <td>bouthy pierrelouis</td>\n",
       "      <td>bouthy</td>\n",
       "      <td>pierrelouis</td>\n",
       "      <td>2013-03-26</td>\n",
       "      <td>Male</td>\n",
       "      <td>1973-01-22</td>\n",
       "      <td>43</td>\n",
       "      <td>25 - 45</td>\n",
       "      <td>Other</td>\n",
       "      <td>...</td>\n",
       "      <td>1</td>\n",
       "      <td>Low</td>\n",
       "      <td>2013-03-26</td>\n",
       "      <td>NaN</td>\n",
       "      <td>NaN</td>\n",
       "      <td>2</td>\n",
       "      <td>0</td>\n",
       "      <td>1102</td>\n",
       "      <td>0</td>\n",
       "      <td>0</td>\n",
       "    </tr>\n",
       "  </tbody>\n",
       "</table>\n",
       "<p>5 rows × 53 columns</p>\n",
       "</div>"
      ],
      "text/plain": [
       "   id                name   first         last compas_screening_date   sex  \\\n",
       "0   1    miguel hernandez  miguel    hernandez            2013-08-14  Male   \n",
       "1   3         kevon dixon   kevon        dixon            2013-01-27  Male   \n",
       "2   4            ed philo      ed        philo            2013-04-14  Male   \n",
       "3   5         marcu brown   marcu        brown            2013-01-13  Male   \n",
       "4   6  bouthy pierrelouis  bouthy  pierrelouis            2013-03-26  Male   \n",
       "\n",
       "          dob  age          age_cat              race  ...  v_decile_score  \\\n",
       "0  1947-04-18   69  Greater than 45             Other  ...               1   \n",
       "1  1982-01-22   34          25 - 45  African-American  ...               1   \n",
       "2  1991-05-14   24     Less than 25  African-American  ...               3   \n",
       "3  1993-01-21   23     Less than 25  African-American  ...               6   \n",
       "4  1973-01-22   43          25 - 45             Other  ...               1   \n",
       "\n",
       "   v_score_text  v_screening_date  in_custody  out_custody  priors_count.1  \\\n",
       "0           Low        2013-08-14  2014-07-07   2014-07-14               0   \n",
       "1           Low        2013-01-27  2013-01-26   2013-02-05               0   \n",
       "2           Low        2013-04-14  2013-06-16   2013-06-16               4   \n",
       "3        Medium        2013-01-13         NaN          NaN               1   \n",
       "4           Low        2013-03-26         NaN          NaN               2   \n",
       "\n",
       "  start   end event two_year_recid  \n",
       "0     0   327     0              0  \n",
       "1     9   159     1              1  \n",
       "2     0    63     0              1  \n",
       "3     0  1174     0              0  \n",
       "4     0  1102     0              0  \n",
       "\n",
       "[5 rows x 53 columns]"
      ]
     },
     "execution_count": 2,
     "metadata": {},
     "output_type": "execute_result"
    }
   ],
   "source": [
    "# Import from ProPublica's compas-analysis repository on GitHub and check the first few rows\n",
    "url = \"https://raw.githubusercontent.com/propublica/compas-analysis/master/compas-scores-two-years.csv\"\n",
    "df_compas = pd.read_csv(url)\n",
    "print(\"Shape: \", df_compas.shape)\n",
    "df_compas.head(5)"
   ]
  },
  {
   "cell_type": "markdown",
   "metadata": {
    "id": "G0xgPnT11OtO"
   },
   "source": [
    "# Inspect Data\n",
    "\n",
    "Variable definitions are as follows:\n",
    "\n",
    "| Variable    | Description |\n",
    "| ----------- | ----------- |\n",
    "| age       |  Age of the defendant   |\n",
    "| age_cat   |  Age category. It can be < 25, 25-45, >45    |\n",
    "| sex   |  Sex of the defendant. It is either \"Male\" or \"Female\"       |\n",
    "| race   |  Race of the defendant. It can be \"African-American\", \"Caucasian\", \"Hispanic\", \"Asian\", or \"Other\"      |\n",
    "| c_charge_degree   |   Charge. Either \"M\" for misdemeanor, \"F\" for felony, or \"O\" (not causing jail time)    |\n",
    "| priors_count   |   Count of prior crimes committed by the defendant      |\n",
    "| days_b_screening_arrest   |  Days between the arrest and COMPAS screening       |\n",
    "| decile_score   |  The COMPAS score estimated by the system. It is between 0-10       |\n",
    "| score_text   |  Decile score. It can be \"Low\" (1-4), \"Medium\" (5-7), or \"High\" (8-10)       |\n",
    "| is_recid   |  Indicates if the defendant recidivated. It can be 0, 1, or -1      |\n",
    "| two_year_recid   |  Indicates if the defendant recidivated within two years of COMPAS assessment      |\n",
    "| c_jail_in   |   Date the defendant was in jail      |\n",
    "| c_jail_out  |   Date when the defendant was released from jail     |\n"
   ]
  },
  {
   "cell_type": "markdown",
   "metadata": {},
   "source": [
    "### First, we'll plot the distribution of our focus variables of age, race, and sex"
   ]
  },
  {
   "cell_type": "code",
   "execution_count": 3,
   "metadata": {
    "id": "C6lQj5HJVuyw"
   },
   "outputs": [
    {
     "data": {
      "image/png": "[encoded data removed]",
      "text/plain": [
       "<Figure size 1000x1000 with 3 Axes>"
      ]
     },
     "metadata": {},
     "output_type": "display_data"
    }
   ],
   "source": [
    "fig, (ax1,ax2,ax3) = plt.subplots(3,1, figsize = (10,10))\n",
    "ax1.hist(df_compas.age)\n",
    "ax1.set_title('Age')\n",
    "ax2.hist(df_compas.race)\n",
    "ax2.set_title('Race')\n",
    "ax3.hist(df_compas.sex)\n",
    "ax3.set_title('Sex')\n",
    "\n",
    "plt.rcParams['text.color'] = 'Green'\n",
    "plt.rcParams['axes.labelcolor'] = 'Green'\n",
    "plt.rcParams['xtick.color'] = 'Green'\n",
    "plt.rcParams['ytick.color'] = 'Green'\n",
    "\n",
    "plt.tight_layout()"
   ]
  },
  {
   "cell_type": "markdown",
   "metadata": {},
   "source": [
    "### Pre-processing: \n",
    "\n",
    "ProPublica first generated a subset of data with variables of interest. \n",
    "\n",
    "In our case, we'll keep it even simpler. "
   ]
  },
  {
   "cell_type": "code",
   "execution_count": 9,
   "metadata": {
    "cellView": "form",
    "colab": {
     "base_uri": "https://localhost:8080/",
     "height": 224
    },
    "id": "T1qppbDjoRGJ",
    "outputId": "b0ca7a0b-0abf-41db-dccf-3bb73199d361"
   },
   "outputs": [
    {
     "name": "stdout",
     "output_type": "stream",
     "text": [
      "Shape:  (7214, 12)\n"
     ]
    },
    {
     "data": {
      "text/html": [
       "<div>\n",
       "<style scoped>\n",
       "    .dataframe tbody tr th:only-of-type {\n",
       "        vertical-align: middle;\n",
       "    }\n",
       "\n",
       "    .dataframe tbody tr th {\n",
       "        vertical-align: top;\n",
       "    }\n",
       "\n",
       "    .dataframe thead th {\n",
       "        text-align: right;\n",
       "    }\n",
       "</style>\n",
       "<table border=\"1\" class=\"dataframe\">\n",
       "  <thead>\n",
       "    <tr style=\"text-align: right;\">\n",
       "      <th></th>\n",
       "      <th>id</th>\n",
       "      <th>age</th>\n",
       "      <th>c_charge_degree</th>\n",
       "      <th>race</th>\n",
       "      <th>age_cat</th>\n",
       "      <th>score_text</th>\n",
       "      <th>sex</th>\n",
       "      <th>priors_count</th>\n",
       "      <th>days_b_screening_arrest</th>\n",
       "      <th>decile_score</th>\n",
       "      <th>is_recid</th>\n",
       "      <th>two_year_recid</th>\n",
       "    </tr>\n",
       "  </thead>\n",
       "  <tbody>\n",
       "    <tr>\n",
       "      <th>0</th>\n",
       "      <td>1</td>\n",
       "      <td>69</td>\n",
       "      <td>F</td>\n",
       "      <td>Other</td>\n",
       "      <td>Greater than 45</td>\n",
       "      <td>Low</td>\n",
       "      <td>Male</td>\n",
       "      <td>0</td>\n",
       "      <td>-1.0</td>\n",
       "      <td>1</td>\n",
       "      <td>0</td>\n",
       "      <td>0</td>\n",
       "    </tr>\n",
       "    <tr>\n",
       "      <th>1</th>\n",
       "      <td>3</td>\n",
       "      <td>34</td>\n",
       "      <td>F</td>\n",
       "      <td>African-American</td>\n",
       "      <td>25 - 45</td>\n",
       "      <td>Low</td>\n",
       "      <td>Male</td>\n",
       "      <td>0</td>\n",
       "      <td>-1.0</td>\n",
       "      <td>3</td>\n",
       "      <td>1</td>\n",
       "      <td>1</td>\n",
       "    </tr>\n",
       "    <tr>\n",
       "      <th>2</th>\n",
       "      <td>4</td>\n",
       "      <td>24</td>\n",
       "      <td>F</td>\n",
       "      <td>African-American</td>\n",
       "      <td>Less than 25</td>\n",
       "      <td>Low</td>\n",
       "      <td>Male</td>\n",
       "      <td>4</td>\n",
       "      <td>-1.0</td>\n",
       "      <td>4</td>\n",
       "      <td>1</td>\n",
       "      <td>1</td>\n",
       "    </tr>\n",
       "    <tr>\n",
       "      <th>3</th>\n",
       "      <td>5</td>\n",
       "      <td>23</td>\n",
       "      <td>F</td>\n",
       "      <td>African-American</td>\n",
       "      <td>Less than 25</td>\n",
       "      <td>High</td>\n",
       "      <td>Male</td>\n",
       "      <td>1</td>\n",
       "      <td>NaN</td>\n",
       "      <td>8</td>\n",
       "      <td>0</td>\n",
       "      <td>0</td>\n",
       "    </tr>\n",
       "    <tr>\n",
       "      <th>4</th>\n",
       "      <td>6</td>\n",
       "      <td>43</td>\n",
       "      <td>F</td>\n",
       "      <td>Other</td>\n",
       "      <td>25 - 45</td>\n",
       "      <td>Low</td>\n",
       "      <td>Male</td>\n",
       "      <td>2</td>\n",
       "      <td>NaN</td>\n",
       "      <td>1</td>\n",
       "      <td>0</td>\n",
       "      <td>0</td>\n",
       "    </tr>\n",
       "  </tbody>\n",
       "</table>\n",
       "</div>"
      ],
      "text/plain": [
       "   id  age c_charge_degree              race          age_cat score_text  \\\n",
       "0   1   69               F             Other  Greater than 45        Low   \n",
       "1   3   34               F  African-American          25 - 45        Low   \n",
       "2   4   24               F  African-American     Less than 25        Low   \n",
       "3   5   23               F  African-American     Less than 25       High   \n",
       "4   6   43               F             Other          25 - 45        Low   \n",
       "\n",
       "    sex  priors_count  days_b_screening_arrest  decile_score  is_recid  \\\n",
       "0  Male             0                     -1.0             1         0   \n",
       "1  Male             0                     -1.0             3         1   \n",
       "2  Male             4                     -1.0             4         1   \n",
       "3  Male             1                      NaN             8         0   \n",
       "4  Male             2                      NaN             1         0   \n",
       "\n",
       "   two_year_recid  \n",
       "0               0  \n",
       "1               1  \n",
       "2               1  \n",
       "3               0  \n",
       "4               0  "
      ]
     },
     "execution_count": 9,
     "metadata": {},
     "output_type": "execute_result"
    }
   ],
   "source": [
    "# Preprocess Data\n",
    "cols_to_keep = [\"id\", \"age\", \"c_charge_degree\", \"race\", \"age_cat\", \"score_text\",\n",
    "                \"sex\", \"priors_count\", \"days_b_screening_arrest\",\n",
    "                \"decile_score\", \"is_recid\", \"two_year_recid\"]\n",
    "df_analysis[\"decile_score\"] = pd.to_numeric(df_analysis[\"decile_score\"])\n",
    "df_selected = df_compas[cols_to_keep].copy()\n",
    "\n",
    "print(\"Shape: \", df_selected.shape)\n",
    "df_selected.head()"
   ]
  },
  {
   "cell_type": "markdown",
   "metadata": {
    "id": "ghZE7FZUpBsQ"
   },
   "source": [
    "ProPublica filtered the above data by removing rows where:\n",
    "\n",
    "1. The COMPAS score is missing.\n",
    "1. If COMPAS-scored crime was not within 30 days from the date of arrest, ProPublica assumed that the offense may not be correct.\n",
    "2. The recividist flag is \"-1\". In such cases, ProPublica could not find a COMPAS record at all.\n",
    "3. The charge is \"O\". These are ordinary traffic offenses and do not result in jail time.\n",
    "\n",
    "Note: The report only includes people who had recidivated within two years or had at least two years outside a correctinal facility. This step is already completed before ProPublica released this dataset. \n",
    "\n",
    "We implement these conditions here:"
   ]
  },
  {
   "cell_type": "code",
   "execution_count": 10,
   "metadata": {
    "id": "3muereQrap8u"
   },
   "outputs": [],
   "source": [
    "df_analysis = df_selected[\n",
    "    (df_selected.score_text != \"N/A\") &\n",
    "    (df_selected.days_b_screening_arrest <= 30) &\n",
    "    (df_selected.days_b_screening_arrest >= -30) &\n",
    "    (df_selected.is_recid != -1) &\n",
    "    (df_selected.c_charge_degree != \"O\")\n",
    "    ].copy()"
   ]
  },
  {
   "cell_type": "code",
   "execution_count": 11,
   "metadata": {
    "id": "JJ_MkWKxt1YJ"
   },
   "outputs": [
    {
     "name": "stdout",
     "output_type": "stream",
     "text": [
      "df_compas shape (observations, variables):  (7214, 53)\n",
      "df_analysis shape (observations, variables):  (6172, 12)\n"
     ]
    }
   ],
   "source": [
    "# check the number of variables and observations in df_compas and df_analysis here\n",
    "print('df_compas shape (observations, variables): ', df_compas.shape)\n",
    "print('df_analysis shape (observations, variables): ', df_analysis.shape)"
   ]
  },
  {
   "cell_type": "markdown",
   "metadata": {
    "id": "TS1ZlkXTwTrU"
   },
   "source": [
    "# Inspect Data Again"
   ]
  },
  {
   "cell_type": "markdown",
   "metadata": {
    "id": "5bgG7Odrk1Wf"
   },
   "source": [
    "Re-inspect salient variables in the data after the preprocessing steps. Plot the distribution of age, race, and sex in the preprocessed data (```df_analysis```) and compare these distributions to the imported data (```df_compas```):"
   ]
  },
  {
   "cell_type": "code",
   "execution_count": null,
   "metadata": {
    "id": "rf4Jdy6QwRAS"
   },
   "outputs": [
    {
     "data": {
      "image/png": "[encoded data removed]",
      "text/plain": [
       "<Figure size 1000x1000 with 3 Axes>"
      ]
     },
     "metadata": {},
     "output_type": "display_data"
    }
   ],
   "source": [
    "fig, (ax1,ax2,ax3) = plt.subplots(3,1, figsize = (10,10))\n",
    "ax1.hist(df_analysis.age)\n",
    "ax1.set_title('Age')\n",
    "ax2.hist(df_analysis.race)\n",
    "ax2.set_title('Race')\n",
    "ax3.hist(df_analysis.sex)\n",
    "ax3.set_title('Sex')\n",
    "\n",
    "plt.rcParams['text.color'] = 'Green'\n",
    "plt.rcParams['axes.labelcolor'] = 'Green'\n",
    "plt.rcParams['xtick.color'] = 'Green'\n",
    "plt.rcParams['ytick.color'] = 'Green'\n",
    "\n",
    "plt.tight_layout()"
   ]
  },
  {
   "cell_type": "markdown",
   "metadata": {
    "id": "RnlEcgYrwIkw"
   },
   "source": [
    "Let's look at the summary of our variables of interset (race and sex):"
   ]
  },
  {
   "cell_type": "code",
   "execution_count": 13,
   "metadata": {
    "id": "sQnZbZDF162n"
   },
   "outputs": [
    {
     "data": {
      "text/html": [
       "<div>\n",
       "<style scoped>\n",
       "    .dataframe tbody tr th:only-of-type {\n",
       "        vertical-align: middle;\n",
       "    }\n",
       "\n",
       "    .dataframe tbody tr th {\n",
       "        vertical-align: top;\n",
       "    }\n",
       "\n",
       "    .dataframe thead th {\n",
       "        text-align: right;\n",
       "    }\n",
       "</style>\n",
       "<table border=\"1\" class=\"dataframe\">\n",
       "  <thead>\n",
       "    <tr style=\"text-align: right;\">\n",
       "      <th>sex</th>\n",
       "      <th>Female</th>\n",
       "      <th>Male</th>\n",
       "    </tr>\n",
       "    <tr>\n",
       "      <th>race</th>\n",
       "      <th></th>\n",
       "      <th></th>\n",
       "    </tr>\n",
       "  </thead>\n",
       "  <tbody>\n",
       "    <tr>\n",
       "      <th>African-American</th>\n",
       "      <td>549</td>\n",
       "      <td>2626</td>\n",
       "    </tr>\n",
       "    <tr>\n",
       "      <th>Asian</th>\n",
       "      <td>2</td>\n",
       "      <td>29</td>\n",
       "    </tr>\n",
       "    <tr>\n",
       "      <th>Caucasian</th>\n",
       "      <td>482</td>\n",
       "      <td>1621</td>\n",
       "    </tr>\n",
       "    <tr>\n",
       "      <th>Hispanic</th>\n",
       "      <td>82</td>\n",
       "      <td>427</td>\n",
       "    </tr>\n",
       "    <tr>\n",
       "      <th>Native American</th>\n",
       "      <td>2</td>\n",
       "      <td>9</td>\n",
       "    </tr>\n",
       "    <tr>\n",
       "      <th>Other</th>\n",
       "      <td>58</td>\n",
       "      <td>285</td>\n",
       "    </tr>\n",
       "  </tbody>\n",
       "</table>\n",
       "</div>"
      ],
      "text/plain": [
       "sex               Female  Male\n",
       "race                          \n",
       "African-American     549  2626\n",
       "Asian                  2    29\n",
       "Caucasian            482  1621\n",
       "Hispanic              82   427\n",
       "Native American        2     9\n",
       "Other                 58   285"
      ]
     },
     "execution_count": 13,
     "metadata": {},
     "output_type": "execute_result"
    }
   ],
   "source": [
    "# generate a crosstab summarizing the number of observations\n",
    "pd.crosstab(df_analysis.race, df_analysis.sex)"
   ]
  },
  {
   "cell_type": "markdown",
   "metadata": {},
   "source": [
    "Now let's focus on the COMPAS recidivism score, focusing on the 'decile_score' feature. \n",
    "\n",
    "Check the distribution of decile scores across sex. "
   ]
  },
  {
   "cell_type": "code",
   "execution_count": 14,
   "metadata": {
    "cellView": "form",
    "colab": {
     "base_uri": "https://localhost:8080/",
     "height": 404
    },
    "id": "5ntoFh0w-1F3",
    "outputId": "ffbacd01-3807-443d-a10d-0e6392eb891b"
   },
   "outputs": [
    {
     "data": {
      "image/png": "[encoded data removed]",
      "text/plain": [
       "<Figure size 1200x600 with 2 Axes>"
      ]
     },
     "metadata": {},
     "output_type": "display_data"
    }
   ],
   "source": [
    "#plot score decile by sex\n",
    "df_female = df_analysis[(df_analysis.sex == \"Female\")].copy()\n",
    "df_male   = df_analysis[(df_analysis.sex == \"Male\")].copy()\n",
    "\n",
    "fig = plt.figure(figsize = (12, 6))\n",
    "fig.add_subplot(121)\n",
    "\n",
    "plt.hist(df_female[\"decile_score\"], ec = \"white\",\n",
    "         weights = np.ones(len(df_female[\"decile_score\"])) /\n",
    "         len(df_female[\"decile_score\"]))\n",
    "plt.xlabel(\"Decile Score (0-10)\")\n",
    "plt.ylabel(\"Percent of Cases\")\n",
    "plt.title(\"Female Defendant's Decile Scores\")\n",
    "plt.ylim([0, 0.25])\n",
    "\n",
    "fig.add_subplot(122)\n",
    "plt.hist(df_male[\"decile_score\"], ec = \"white\",\n",
    "         weights = np.ones(len(df_male[\"decile_score\"])) /\n",
    "         len(df_male[\"decile_score\"]))\n",
    "plt.xlabel(\"Decile Score (0-10)\")\n",
    "plt.ylabel(\"Percent of Cases\")\n",
    "plt.title(\"Male Defendant's Decile Scores\")\n",
    "plt.ylim([0, 0.25])\n",
    "\n",
    "plt.show()"
   ]
  },
  {
   "cell_type": "markdown",
   "metadata": {
    "id": "RDtwnIWk4O_P"
   },
   "source": [
    "Do the same for the 'race' feature."
   ]
  },
  {
   "cell_type": "code",
   "execution_count": 15,
   "metadata": {
    "id": "2QRK2jsM3Vvn"
   },
   "outputs": [
    {
     "data": {
      "image/png": "[encoded data removed]",
      "text/plain": [
       "<Figure size 1200x600 with 2 Axes>"
      ]
     },
     "metadata": {},
     "output_type": "display_data"
    }
   ],
   "source": [
    "df_black = df_analysis[(df_analysis.race == \"African-American\")].copy()\n",
    "df_white   = df_analysis[(df_analysis.race == \"Caucasian\")].copy()\n",
    "\n",
    "fig = plt.figure(figsize = (12, 6))\n",
    "fig.add_subplot(121)\n",
    "\n",
    "plt.hist(df_black[\"decile_score\"], ec = \"white\",\n",
    "         weights = np.ones(len(df_black[\"decile_score\"])) /\n",
    "         len(df_black[\"decile_score\"]))\n",
    "plt.xlabel(\"Decile Score (0-10)\")\n",
    "plt.ylabel(\"Percent of Cases\")\n",
    "plt.title(\"Black Defendant's Decile Scores\")\n",
    "plt.ylim([0, 0.25])\n",
    "\n",
    "fig.add_subplot(122)\n",
    "plt.hist(df_white[\"decile_score\"], ec = \"white\",\n",
    "         weights = np.ones(len(df_white[\"decile_score\"])) /\n",
    "         len(df_white[\"decile_score\"]))\n",
    "plt.xlabel(\"Decile Score (0-10)\")\n",
    "plt.ylabel(\"Percent of Cases\")\n",
    "plt.title(\"White Defendant's Decile Scores\")\n",
    "plt.ylim([0, 0.25])\n",
    "\n",
    "plt.show()"
   ]
  },
  {
   "cell_type": "markdown",
   "metadata": {
    "id": "V1o9A7VlDWuo"
   },
   "source": [
    "Now we'll plot the distribution of the COMPAS-assigned \"risk labels\" (\"score_text\") for Black defendants and White defendants:"
   ]
  },
  {
   "cell_type": "code",
   "execution_count": 16,
   "metadata": {
    "id": "P3tnCwrbDvIe"
   },
   "outputs": [
    {
     "data": {
      "image/png": "[encoded data removed]",
      "text/plain": [
       "<Figure size 1200x600 with 2 Axes>"
      ]
     },
     "metadata": {},
     "output_type": "display_data"
    }
   ],
   "source": [
    "fig = plt.figure(figsize = (12, 6))\n",
    "fig.add_subplot(121)\n",
    "\n",
    "plt.hist(df_black[\"score_text\"], ec = \"white\",\n",
    "         weights = np.ones(len(df_black[\"score_text\"])) /\n",
    "         len(df_black[\"score_text\"]))\n",
    "plt.xlabel(\"Risk Labels\")\n",
    "plt.ylabel(\"Percent of Cases\")\n",
    "plt.title(\"Black Defendant's Risk Labels\")\n",
    "plt.ylim([0, 0.75])\n",
    "\n",
    "fig.add_subplot(122)\n",
    "plt.hist(df_white[\"score_text\"], ec = \"white\",\n",
    "         weights = np.ones(len(df_white[\"score_text\"])) /\n",
    "         len(df_white[\"score_text\"]))\n",
    "plt.xlabel(\"Risk Labels\")\n",
    "plt.ylabel(\"Percent of Cases\")\n",
    "plt.title(\"White Defendant's Risk Labels\")\n",
    "plt.ylim([0, 0.75])\n",
    "\n",
    "plt.show()"
   ]
  },
  {
   "cell_type": "markdown",
   "metadata": {},
   "source": [
    "Now we'll preprocess the data for logisic regression. \n",
    "First, we'll one-hot encode the categorical features. "
   ]
  },
  {
   "cell_type": "code",
   "execution_count": 17,
   "metadata": {
    "cellView": "form",
    "colab": {
     "base_uri": "https://localhost:8080/"
    },
    "id": "VqJLl5RfFIXR",
    "outputId": "0e9634ef-0c10-4020-e35d-4689f4d983b0"
   },
   "outputs": [
    {
     "name": "stdout",
     "output_type": "stream",
     "text": [
      "id                           int64\n",
      "age                          int64\n",
      "c_charge_degree             object\n",
      "race                        object\n",
      "age_cat                     object\n",
      "score_text                  object\n",
      "sex                         object\n",
      "priors_count                 int64\n",
      "days_b_screening_arrest    float64\n",
      "decile_score                 int64\n",
      "is_recid                     int64\n",
      "two_year_recid               int64\n",
      "dtype: object\n"
     ]
    }
   ],
   "source": [
    "# get the feature data types\n",
    "print(df_analysis.dtypes)"
   ]
  },
  {
   "cell_type": "code",
   "execution_count": 18,
   "metadata": {
    "cellView": "form",
    "colab": {
     "base_uri": "https://localhost:8080/"
    },
    "id": "1VywniiqFugA",
    "outputId": "921f1823-2ecf-4d83-e42d-14e35171b83f"
   },
   "outputs": [
    {
     "name": "stdout",
     "output_type": "stream",
     "text": [
      "\n",
      "Variable c_charge_degree takes the values: ['F' 'M']\n",
      "\n",
      "Variable race takes the values: ['Other' 'African-American' 'Caucasian' 'Hispanic' 'Asian'\n",
      " 'Native American']\n",
      "\n",
      "Variable age_cat takes the values: ['Greater than 45' '25 - 45' 'Less than 25']\n",
      "\n",
      "Variable score_text takes the values: ['Low' 'Medium' 'High']\n",
      "\n",
      "Variable sex takes the values: ['Male' 'Female']\n"
     ]
    }
   ],
   "source": [
    "for i, col_type in enumerate(df_analysis.dtypes):\n",
    "    if col_type == \"object\":\n",
    "        print(\"\\nVariable {} takes the values: {}\".format(\n",
    "            df_analysis.columns[i],\n",
    "            df_analysis[df_analysis.columns[i]].unique()))"
   ]
  },
  {
   "cell_type": "code",
   "execution_count": 22,
   "metadata": {
    "cellView": "form",
    "id": "bbPi5iRYHZ64"
   },
   "outputs": [],
   "source": [
    "df_logistic = df_analysis.copy()\n",
    "\n",
    "# one-hot encoding\n",
    "df_logistic = pd.get_dummies(df_logistic,\n",
    "                             columns = [\"c_charge_degree\", \"race\",\n",
    "                                        \"age_cat\", \"sex\"])\n",
    "\n",
    "# mutate score_text to binary variable where low = {low}\n",
    "# and high = {medium, high}\n",
    "df_logistic[\"score_binary\"] = np.where(df_logistic[\"score_text\"] != \"Low\",\n",
    "                                       \"High\", \"Low\")\n",
    "df_logistic[\"score_binary\"] = df_logistic[\"score_binary\"].astype('category')\n",
    "\n",
    "# rename the columns to be more instructive and consistent with statsmodel\n",
    "# requirements for variable names\n",
    "df_logistic.columns = df_logistic.columns.str.replace(' ', '_')\n",
    "df_logistic.columns = df_logistic.columns.str.replace('-', '_')\n",
    "\n",
    "renamed_cols = {'age_cat_25___45':'age_cat_25_to_45',\n",
    "                'c_charge_degree_F':'Felony',\n",
    "                'c_charge_degree_M':'Misdemeanor'}\n",
    "\n",
    "df_logistic = df_logistic.rename(columns = renamed_cols)\n"
   ]
  },
  {
   "cell_type": "markdown",
   "metadata": {
    "id": "3BaOl-bMfU3q"
   },
   "source": [
    "Check that recoding resulted in the desired data structure:"
   ]
  },
  {
   "cell_type": "code",
   "execution_count": 23,
   "metadata": {
    "cellView": "form",
    "colab": {
     "base_uri": "https://localhost:8080/",
     "height": 270
    },
    "id": "7rAihNgrP3f7",
    "outputId": "35a3ebe6-a402-410c-d7b9-20cce23df21b"
   },
   "outputs": [
    {
     "data": {
      "text/html": [
       "<div>\n",
       "<style scoped>\n",
       "    .dataframe tbody tr th:only-of-type {\n",
       "        vertical-align: middle;\n",
       "    }\n",
       "\n",
       "    .dataframe tbody tr th {\n",
       "        vertical-align: top;\n",
       "    }\n",
       "\n",
       "    .dataframe thead th {\n",
       "        text-align: right;\n",
       "    }\n",
       "</style>\n",
       "<table border=\"1\" class=\"dataframe\">\n",
       "  <thead>\n",
       "    <tr style=\"text-align: right;\">\n",
       "      <th></th>\n",
       "      <th>id</th>\n",
       "      <th>age</th>\n",
       "      <th>score_text</th>\n",
       "      <th>priors_count</th>\n",
       "      <th>days_b_screening_arrest</th>\n",
       "      <th>decile_score</th>\n",
       "      <th>is_recid</th>\n",
       "      <th>two_year_recid</th>\n",
       "      <th>Felony</th>\n",
       "      <th>Misdemeanor</th>\n",
       "      <th>...</th>\n",
       "      <th>race_Caucasian</th>\n",
       "      <th>race_Hispanic</th>\n",
       "      <th>race_Native_American</th>\n",
       "      <th>race_Other</th>\n",
       "      <th>age_cat_25_to_45</th>\n",
       "      <th>age_cat_Greater_than_45</th>\n",
       "      <th>age_cat_Less_than_25</th>\n",
       "      <th>sex_Female</th>\n",
       "      <th>sex_Male</th>\n",
       "      <th>score_binary</th>\n",
       "    </tr>\n",
       "  </thead>\n",
       "  <tbody>\n",
       "    <tr>\n",
       "      <th>0</th>\n",
       "      <td>1</td>\n",
       "      <td>69</td>\n",
       "      <td>Low</td>\n",
       "      <td>0</td>\n",
       "      <td>-1.0</td>\n",
       "      <td>1</td>\n",
       "      <td>0</td>\n",
       "      <td>0</td>\n",
       "      <td>True</td>\n",
       "      <td>False</td>\n",
       "      <td>...</td>\n",
       "      <td>False</td>\n",
       "      <td>False</td>\n",
       "      <td>False</td>\n",
       "      <td>True</td>\n",
       "      <td>False</td>\n",
       "      <td>True</td>\n",
       "      <td>False</td>\n",
       "      <td>False</td>\n",
       "      <td>True</td>\n",
       "      <td>Low</td>\n",
       "    </tr>\n",
       "    <tr>\n",
       "      <th>1</th>\n",
       "      <td>3</td>\n",
       "      <td>34</td>\n",
       "      <td>Low</td>\n",
       "      <td>0</td>\n",
       "      <td>-1.0</td>\n",
       "      <td>3</td>\n",
       "      <td>1</td>\n",
       "      <td>1</td>\n",
       "      <td>True</td>\n",
       "      <td>False</td>\n",
       "      <td>...</td>\n",
       "      <td>False</td>\n",
       "      <td>False</td>\n",
       "      <td>False</td>\n",
       "      <td>False</td>\n",
       "      <td>True</td>\n",
       "      <td>False</td>\n",
       "      <td>False</td>\n",
       "      <td>False</td>\n",
       "      <td>True</td>\n",
       "      <td>Low</td>\n",
       "    </tr>\n",
       "    <tr>\n",
       "      <th>2</th>\n",
       "      <td>4</td>\n",
       "      <td>24</td>\n",
       "      <td>Low</td>\n",
       "      <td>4</td>\n",
       "      <td>-1.0</td>\n",
       "      <td>4</td>\n",
       "      <td>1</td>\n",
       "      <td>1</td>\n",
       "      <td>True</td>\n",
       "      <td>False</td>\n",
       "      <td>...</td>\n",
       "      <td>False</td>\n",
       "      <td>False</td>\n",
       "      <td>False</td>\n",
       "      <td>False</td>\n",
       "      <td>False</td>\n",
       "      <td>False</td>\n",
       "      <td>True</td>\n",
       "      <td>False</td>\n",
       "      <td>True</td>\n",
       "      <td>Low</td>\n",
       "    </tr>\n",
       "    <tr>\n",
       "      <th>5</th>\n",
       "      <td>7</td>\n",
       "      <td>44</td>\n",
       "      <td>Low</td>\n",
       "      <td>0</td>\n",
       "      <td>0.0</td>\n",
       "      <td>1</td>\n",
       "      <td>0</td>\n",
       "      <td>0</td>\n",
       "      <td>False</td>\n",
       "      <td>True</td>\n",
       "      <td>...</td>\n",
       "      <td>False</td>\n",
       "      <td>False</td>\n",
       "      <td>False</td>\n",
       "      <td>True</td>\n",
       "      <td>True</td>\n",
       "      <td>False</td>\n",
       "      <td>False</td>\n",
       "      <td>False</td>\n",
       "      <td>True</td>\n",
       "      <td>Low</td>\n",
       "    </tr>\n",
       "    <tr>\n",
       "      <th>6</th>\n",
       "      <td>8</td>\n",
       "      <td>41</td>\n",
       "      <td>Medium</td>\n",
       "      <td>14</td>\n",
       "      <td>-1.0</td>\n",
       "      <td>6</td>\n",
       "      <td>1</td>\n",
       "      <td>1</td>\n",
       "      <td>True</td>\n",
       "      <td>False</td>\n",
       "      <td>...</td>\n",
       "      <td>True</td>\n",
       "      <td>False</td>\n",
       "      <td>False</td>\n",
       "      <td>False</td>\n",
       "      <td>True</td>\n",
       "      <td>False</td>\n",
       "      <td>False</td>\n",
       "      <td>False</td>\n",
       "      <td>True</td>\n",
       "      <td>High</td>\n",
       "    </tr>\n",
       "  </tbody>\n",
       "</table>\n",
       "<p>5 rows × 22 columns</p>\n",
       "</div>"
      ],
      "text/plain": [
       "   id  age score_text  priors_count  days_b_screening_arrest  decile_score  \\\n",
       "0   1   69        Low             0                     -1.0             1   \n",
       "1   3   34        Low             0                     -1.0             3   \n",
       "2   4   24        Low             4                     -1.0             4   \n",
       "5   7   44        Low             0                      0.0             1   \n",
       "6   8   41     Medium            14                     -1.0             6   \n",
       "\n",
       "   is_recid  two_year_recid  Felony  Misdemeanor  ...  race_Caucasian  \\\n",
       "0         0               0    True        False  ...           False   \n",
       "1         1               1    True        False  ...           False   \n",
       "2         1               1    True        False  ...           False   \n",
       "5         0               0   False         True  ...           False   \n",
       "6         1               1    True        False  ...            True   \n",
       "\n",
       "   race_Hispanic  race_Native_American  race_Other  age_cat_25_to_45  \\\n",
       "0          False                 False        True             False   \n",
       "1          False                 False       False              True   \n",
       "2          False                 False       False             False   \n",
       "5          False                 False        True              True   \n",
       "6          False                 False       False              True   \n",
       "\n",
       "   age_cat_Greater_than_45  age_cat_Less_than_25  sex_Female  sex_Male  \\\n",
       "0                     True                 False       False      True   \n",
       "1                    False                 False       False      True   \n",
       "2                    False                  True       False      True   \n",
       "5                    False                 False       False      True   \n",
       "6                    False                 False       False      True   \n",
       "\n",
       "   score_binary  \n",
       "0           Low  \n",
       "1           Low  \n",
       "2           Low  \n",
       "5           Low  \n",
       "6          High  \n",
       "\n",
       "[5 rows x 22 columns]"
      ]
     },
     "execution_count": 23,
     "metadata": {},
     "output_type": "execute_result"
    }
   ],
   "source": [
    "df_logistic.head()"
   ]
  },
  {
   "cell_type": "markdown",
   "metadata": {},
   "source": [
    "Estimate the logistic regression model following ProPublica's specifications. "
   ]
  },
  {
   "cell_type": "code",
   "execution_count": 24,
   "metadata": {
    "cellView": "form",
    "colab": {
     "base_uri": "https://localhost:8080/"
    },
    "id": "Fd07D4i_MUjN",
    "outputId": "78443a11-ae76-42e0-fb2d-c08ad5a2e2bd"
   },
   "outputs": [
    {
     "name": "stdout",
     "output_type": "stream",
     "text": [
      "score_binary ~ priors_count + two_year_recid + Misdemeanor + age_cat_Greater_than_45 + age_cat_Less_than_25 + race_African_American + race_Asian + race_Hispanic + race_Native_American + race_Other + sex_Female\n"
     ]
    }
   ],
   "source": [
    "# Right-hand side\n",
    "explanatory = \"priors_count + two_year_recid + Misdemeanor + \\\n",
    "age_cat_Greater_than_45 + age_cat_Less_than_25 + \\\n",
    "race_African_American + race_Asian + race_Hispanic + race_Native_American + \\\n",
    "race_Other + sex_Female\"\n",
    "\n",
    "# Left-hand side\n",
    "response = \"score_binary\"\n",
    "\n",
    "# Formula\n",
    "formula = response + \" ~ \" + explanatory\n",
    "print(formula)"
   ]
  },
  {
   "cell_type": "markdown",
   "metadata": {},
   "source": [
    "Fit the model and check its state"
   ]
  },
  {
   "cell_type": "code",
   "execution_count": 25,
   "metadata": {
    "cellView": "form",
    "colab": {
     "base_uri": "https://localhost:8080/"
    },
    "id": "SXGOejPiNk3E",
    "outputId": "ce49e884-f9e9-4efc-e1ba-896508f15afe"
   },
   "outputs": [
    {
     "name": "stdout",
     "output_type": "stream",
     "text": [
      "                              Generalized Linear Model Regression Results                              \n",
      "=======================================================================================================\n",
      "Dep. Variable:     ['score_binary[High]', 'score_binary[Low]']   No. Observations:                 6172\n",
      "Model:                                                     GLM   Df Residuals:                     6160\n",
      "Model Family:                                         Binomial   Df Model:                           11\n",
      "Link Function:                                           Logit   Scale:                          1.0000\n",
      "Method:                                                   IRLS   Log-Likelihood:                -3084.2\n",
      "Date:                                         Sat, 09 Aug 2025   Deviance:                       6168.4\n",
      "Time:                                                 19:25:58   Pearson chi2:                 6.07e+03\n",
      "No. Iterations:                                              6   Pseudo R-squ. (CS):             0.3128\n",
      "Covariance Type:                                     nonrobust                                         \n",
      "===================================================================================================\n",
      "                                      coef    std err          z      P>|z|      [0.025      0.975]\n",
      "---------------------------------------------------------------------------------------------------\n",
      "Intercept                          -1.5255      0.079    -19.430      0.000      -1.679      -1.372\n",
      "Misdemeanor[T.True]                -0.3112      0.067     -4.677      0.000      -0.442      -0.181\n",
      "age_cat_Greater_than_45[T.True]    -1.3556      0.099    -13.682      0.000      -1.550      -1.161\n",
      "age_cat_Less_than_25[T.True]        1.3084      0.076     17.232      0.000       1.160       1.457\n",
      "race_African_American[T.True]       0.4772      0.069      6.881      0.000       0.341       0.613\n",
      "race_Asian[T.True]                 -0.2544      0.478     -0.532      0.595      -1.192       0.683\n",
      "race_Hispanic[T.True]              -0.4284      0.128     -3.344      0.001      -0.680      -0.177\n",
      "race_Native_American[T.True]        1.3942      0.766      1.820      0.069      -0.107       2.896\n",
      "race_Other[T.True]                 -0.8263      0.162     -5.098      0.000      -1.144      -0.509\n",
      "sex_Female[T.True]                  0.2213      0.080      2.783      0.005       0.065       0.377\n",
      "priors_count                        0.2689      0.011     24.221      0.000       0.247       0.291\n",
      "two_year_recid                      0.6859      0.064     10.713      0.000       0.560       0.811\n",
      "===================================================================================================\n"
     ]
    }
   ],
   "source": [
    "# Note: using family = sm.families.Binomial() specifies a logistic regression\n",
    "model = sm.formula.glm(formula = formula, \n",
    "                       family = sm.families.Binomial(),\n",
    "                       data = df_logistic).fit()\n",
    "\n",
    "print(model.summary())"
   ]
  },
  {
   "cell_type": "markdown",
   "metadata": {
    "id": "yJ7CaxsERKus"
   },
   "source": [
    "#### Interpret Estimates\n",
    "\n",
    "One way of interpreting the results is to estimate and odds ratio. \n",
    "We do this by taking the exponential of the coefficients. \n",
    "For example, the exponential of the coefficient sex_Female ($\\beta_{female}$ = 0.2213) will return the odds of the score_text being \"high\" relative to a male. \n",
    "This is shown below. This indicates that the odds that COMPAS labeled a defendant of high risk of recidivism is 1.25 times greater for females.  "
   ]
  },
  {
   "cell_type": "code",
   "execution_count": 27,
   "metadata": {
    "id": "m-kJeX2TSu29"
   },
   "outputs": [
    {
     "data": {
      "text/plain": [
       "np.float64(1.247697683728402)"
      ]
     },
     "execution_count": 27,
     "metadata": {},
     "output_type": "execute_result"
    }
   ],
   "source": [
    "np.exp(0.2213)"
   ]
  },
  {
   "cell_type": "markdown",
   "metadata": {
    "id": "Zt01yUzKTzG_"
   },
   "source": [
    "Next, we'll calculate the odds ratio for all of the coefficients in the model:"
   ]
  },
  {
   "cell_type": "code",
   "execution_count": 30,
   "metadata": {
    "id": "8nPb8HKJROFd"
   },
   "outputs": [
    {
     "name": "stdout",
     "output_type": "stream",
     "text": [
      "Odds Ratio for priors count:  1.3085242820754195\n",
      "Odds Ratio for two year recidiv:  1.9855580338578191\n",
      "Odds Ratio for misdemeanors:  0.7325673477474592\n",
      "Odds Ratio for age > 45:  0.2577925724963829\n",
      "Odds Ratio for age < 25:  3.7002485756439443\n",
      "Odds Ratio for African-American race:  1.611555722969869\n",
      "Odds Ratio for Asian race:  0.7753815873727283\n",
      "Odds Ratio for Hispanic race:  0.6515507423707737\n",
      "Odds Ratio for Native American race:  4.031747883821712\n",
      "Odds Ratio for Other race:  0.4376656571228985\n"
     ]
    }
   ],
   "source": [
    "# calculate the odds ratio for all variables in the logistic regression model\n",
    "print('Odds Ratio for priors count: ', np.exp(0.2689))              # priors count\n",
    "print('Odds Ratio for two year recidiv: ', np.exp(0.6859))          # two year recidiv\n",
    "print('Odds Ratio for misdemeanors: ', np.exp(-0.3112))             # misdemeanor\n",
    "print('Odds Ratio for age > 45: ', np.exp(-1.3556))                 # age category greater than 45\n",
    "print('Odds Ratio for age < 25: ', np.exp(1.3084))                  # age category less than 25\n",
    "print('Odds Ratio for African-American race: ', np.exp(0.4772))     # race category African-American\n",
    "print('Odds Ratio for Asian race: ', np.exp(-0.2544))               # race category Asian\n",
    "print('Odds Ratio for Hispanic race: ', np.exp(-0.4284))            # race category Hispanic\n",
    "print('Odds Ratio for Native American race: ', np.exp(1.3942))      # race category Native-American\n",
    "print('Odds Ratio for Other race: ', np.exp(-0.8263))               # race category Other"
   ]
  },
  {
   "cell_type": "markdown",
   "metadata": {
    "id": "5dQBzQ5jSjPy"
   },
   "source": [
    "From this, we can see things like a person over 45 years old is 0.25 times less likely to be labeled high risk than those under 45 years old. \n",
    "\n",
    "A person who is under 25 is 3.7 times more likely to be labeled high risk compared to those over 25. \n"
   ]
  },
  {
   "cell_type": "markdown",
   "metadata": {
    "id": "KtxwUESZzppK"
   },
   "source": [
    "A person who is over 45 is 0.26 times less likely to be labeled high risk compared to a person who is under 45. Likewise, a person who is under 25 is 3.7 times more likely to be labeled high risk compared to those over 25. "
   ]
  },
  {
   "cell_type": "markdown",
   "metadata": {
    "id": "CvGGSeCqY-eN"
   },
   "source": [
    "## Confusion Matrix\n",
    "\n",
    "We'll think about the how the labels of risk are separated by recidivism. \n",
    "\n",
    "|      | Did not recidivate | Recidivated   |\n",
    "| :---        |    :----:   |          ---: |\n",
    "| **Labeled high risk**  | A       | B   |\n",
    "| **Labeled low risk**   | C       | D      |"
   ]
  },
  {
   "cell_type": "markdown",
   "metadata": {
    "id": "mnVn3FqiLbL3"
   },
   "source": [
    "A = False Positive or Type I error\n",
    "B = False Negative or Type II error"
   ]
  },
  {
   "cell_type": "code",
   "execution_count": 32,
   "metadata": {
    "cellView": "form",
    "colab": {
     "base_uri": "https://localhost:8080/",
     "height": 161
    },
    "id": "JpluSwppZFUe",
    "outputId": "cc3a189f-655a-4e84-b942-4f43b9b82dc3"
   },
   "outputs": [
    {
     "name": "stdout",
     "output_type": "stream",
     "text": [
      "All defendants\n"
     ]
    },
    {
     "data": {
      "text/html": [
       "<div>\n",
       "<style scoped>\n",
       "    .dataframe tbody tr th:only-of-type {\n",
       "        vertical-align: middle;\n",
       "    }\n",
       "\n",
       "    .dataframe tbody tr th {\n",
       "        vertical-align: top;\n",
       "    }\n",
       "\n",
       "    .dataframe thead th {\n",
       "        text-align: right;\n",
       "    }\n",
       "</style>\n",
       "<table border=\"1\" class=\"dataframe\">\n",
       "  <thead>\n",
       "    <tr style=\"text-align: right;\">\n",
       "      <th>is_recid</th>\n",
       "      <th>0</th>\n",
       "      <th>1</th>\n",
       "    </tr>\n",
       "    <tr>\n",
       "      <th>score_binary</th>\n",
       "      <th></th>\n",
       "      <th></th>\n",
       "    </tr>\n",
       "  </thead>\n",
       "  <tbody>\n",
       "    <tr>\n",
       "      <th>High</th>\n",
       "      <td>934</td>\n",
       "      <td>1817</td>\n",
       "    </tr>\n",
       "    <tr>\n",
       "      <th>Low</th>\n",
       "      <td>2248</td>\n",
       "      <td>1173</td>\n",
       "    </tr>\n",
       "  </tbody>\n",
       "</table>\n",
       "</div>"
      ],
      "text/plain": [
       "is_recid         0     1\n",
       "score_binary            \n",
       "High           934  1817\n",
       "Low           2248  1173"
      ]
     },
     "execution_count": 32,
     "metadata": {},
     "output_type": "execute_result"
    }
   ],
   "source": [
    "# get the numeric counts for each entry into the confusion matrix\n",
    "print(\"All defendants\")\n",
    "pd.crosstab(df_logistic[\"score_binary\"], df_logistic[\"is_recid\"])"
   ]
  },
  {
   "cell_type": "code",
   "execution_count": null,
   "metadata": {
    "id": "D3Av4Eu0ZjFN"
   },
   "outputs": [],
   "source": [
    "true_positive  = 1817 #@param {type:\"number\"}\n",
    "false_positive = 934 #@param {type:\"number\"}\n",
    "true_negative  = 2248 #@param {type:\"number\"}\n",
    "false_negative = 1173 #@param {type:\"number\"}"
   ]
  },
  {
   "cell_type": "markdown",
   "metadata": {
    "id": "pOKUOXBh6rh0"
   },
   "source": [
    "Based on the entries of the confusion matrix, we can calcualte things like false positive rates, false negative rates, recall, sensitivity, accuracy, etc. \n",
    "\n"
   ]
  },
  {
   "cell_type": "code",
   "execution_count": 34,
   "metadata": {
    "id": "VrkCFBzAZa2R"
   },
   "outputs": [
    {
     "name": "stdout",
     "output_type": "stream",
     "text": [
      "False Positive Rate:  0.29352608422375864\n"
     ]
    }
   ],
   "source": [
    "# calculate the false positive rate for all defendants\n",
    "print('False Positive Rate: ', false_positive/(false_positive + true_negative))"
   ]
  },
  {
   "cell_type": "markdown",
   "metadata": {
    "id": "WgmNak0ob2C8"
   },
   "source": [
    "Now calculate the false *negative* rate: (hint, replace the terms in the false positive rate formula in the previous text cell)"
   ]
  },
  {
   "cell_type": "code",
   "execution_count": 35,
   "metadata": {
    "id": "46bwGfLba3ij"
   },
   "outputs": [
    {
     "name": "stdout",
     "output_type": "stream",
     "text": [
      "False Negative Rate:  0.3923076923076923\n"
     ]
    }
   ],
   "source": [
    "# calculate the false negative rate for all defendants\n",
    "print('False Negative Rate: ', false_negative/(false_negative + true_positive))"
   ]
  },
  {
   "cell_type": "markdown",
   "metadata": {
    "id": "G1LBhe-f-TTn"
   },
   "source": [
    "Lets compare the FP and FN rates across the sex attribute. \n",
    "How do the false positive and false negative rates vary by sex? Let's generate a crosstab of \"score_binary\" and \"is_recid\" for female defendants:"
   ]
  },
  {
   "cell_type": "code",
   "execution_count": 37,
   "metadata": {
    "cellView": "form",
    "colab": {
     "base_uri": "https://localhost:8080/"
    },
    "id": "LI3i9zzt-kMG",
    "outputId": "e6c05f46-d96f-4080-a975-0dfcaa7d55d6"
   },
   "outputs": [
    {
     "name": "stdout",
     "output_type": "stream",
     "text": [
      "is_recid        0    1\n",
      "score_binary          \n",
      "High          220  256\n",
      "Low           520  179\n",
      "Female defendants\n"
     ]
    }
   ],
   "source": [
    "mask = df_logistic[\"sex_Female\"] == 1\n",
    "print(pd.crosstab(df_logistic.loc[mask, \"score_binary\"],\n",
    "                  df_logistic.loc[mask, \"is_recid\"]))\n",
    "print(\"Female defendants\")"
   ]
  },
  {
   "cell_type": "code",
   "execution_count": null,
   "metadata": {
    "id": "8tzBrFZKb4UI"
   },
   "outputs": [
    {
     "name": "stdout",
     "output_type": "stream",
     "text": [
      "False Positive Rate:  0.2972972972972973\n",
      "False Negative Rate:  0.4114942528735632\n"
     ]
    }
   ],
   "source": [
    "# calculate the false positive rate and false negative rate for females\n",
    "print('False Positive Rate: ', 220/(220 + 520))\n",
    "print('False Negative Rate: ', 179/(179 + 256))"
   ]
  },
  {
   "cell_type": "code",
   "execution_count": null,
   "metadata": {
    "id": "dlxlpA9SARFT"
   },
   "outputs": [
    {
     "name": "stdout",
     "output_type": "stream",
     "text": [
      "is_recid         0     1\n",
      "score_binary            \n",
      "High           714  1561\n",
      "Low           1728   994\n",
      "Male defendants\n"
     ]
    }
   ],
   "source": [
    "# crosstab for male defendants\n",
    "mask = df_logistic[\"sex_Male\"] == 1\n",
    "print(pd.crosstab(df_logistic.loc[mask, \"score_binary\"],\n",
    "                  df_logistic.loc[mask, \"is_recid\"]))\n",
    "print(\"Male defendants\")"
   ]
  },
  {
   "cell_type": "code",
   "execution_count": null,
   "metadata": {
    "id": "Yexu8ZUIb78V"
   },
   "outputs": [
    {
     "name": "stdout",
     "output_type": "stream",
     "text": [
      "False Positive Rate:  0.29238329238329236\n",
      "False Negative Rate:  0.38904109589041097\n"
     ]
    }
   ],
   "source": [
    "# calculate the false positive rate and false negative rate for males\n",
    "print('False Positive Rate: ', 714/(714 + 1728))\n",
    "print('False Negative Rate: ', 994/(994 + 1561))"
   ]
  },
  {
   "cell_type": "markdown",
   "metadata": {
    "id": "0Y3odoqE-g0y"
   },
   "source": [
    "What about rates across the race attribute?"
   ]
  },
  {
   "cell_type": "code",
   "execution_count": null,
   "metadata": {
    "id": "_0-offlbBQTy"
   },
   "outputs": [
    {
     "name": "stdout",
     "output_type": "stream",
     "text": [
      "is_recid        0    1\n",
      "score_binary          \n",
      "High          266  430\n",
      "Low           963  444\n",
      "White defendants\n"
     ]
    }
   ],
   "source": [
    "# crosstab for White defendants\n",
    "mask = df_logistic[\"race_Caucasian\"] == 1\n",
    "print(pd.crosstab(df_logistic.loc[mask, \"score_binary\"],\n",
    "                  df_logistic.loc[mask, \"is_recid\"]))\n",
    "print(\"White defendants\")"
   ]
  },
  {
   "cell_type": "code",
   "execution_count": null,
   "metadata": {
    "id": "OZ3qx2aGcGxm"
   },
   "outputs": [
    {
     "name": "stdout",
     "output_type": "stream",
     "text": [
      "False Positive Rate:  0.21643612693246542\n",
      "False Negative Rate:  0.5080091533180778\n"
     ]
    }
   ],
   "source": [
    "# calculate the false positive rate and false negative rate for White defendants\n",
    "print('False Positive Rate: ', 266 / (266 + 963))\n",
    "print('False Negative Rate: ', 444 / (444 + 430))"
   ]
  },
  {
   "cell_type": "markdown",
   "metadata": {
    "id": "GU0ft0TSe_1m"
   },
   "source": [
    "Lastly, calculate the false positive rate and false negative rate for Black defendants:"
   ]
  },
  {
   "cell_type": "code",
   "execution_count": null,
   "metadata": {
    "id": "HUU_w57EfEDk"
   },
   "outputs": [
    {
     "name": "stdout",
     "output_type": "stream",
     "text": [
      "is_recid        0     1\n",
      "score_binary           \n",
      "High          581  1248\n",
      "Low           821   525\n",
      "White defendants\n"
     ]
    }
   ],
   "source": [
    "# crosstab for Black defendants\n",
    "mask = df_logistic[\"race_African_American\"] == 1\n",
    "print(pd.crosstab(df_logistic.loc[mask, \"score_binary\"],\n",
    "                  df_logistic.loc[mask, \"is_recid\"]))\n",
    "print(\"White defendants\")"
   ]
  },
  {
   "cell_type": "code",
   "execution_count": null,
   "metadata": {
    "id": "kasSRZjkcYET"
   },
   "outputs": [
    {
     "name": "stdout",
     "output_type": "stream",
     "text": [
      "False Positive Rate:  0.4144079885877318\n",
      "False Negative Rate:  0.2961082910321489\n"
     ]
    }
   ],
   "source": [
    "# calculate the false positive rate and false negative rate for Black defendnats\n",
    "print('False Positive Rate: ', 581/(581+821))\n",
    "print('False Negative Rate: ', 525/(525+1248))"
   ]
  }
 ],
 "metadata": {
  "colab": {
   "collapsed_sections": [
    "355LmyCRd_sZ",
    "JI0slRqXFyXZ",
    "06n4G0ShMTWY"
   ],
   "provenance": []
  },
  "kernelspec": {
   "display_name": ".venv (3.12.3)",
   "language": "python",
   "name": "python3"
  },
  "language_info": {
   "codemirror_mode": {
    "name": "ipython",
    "version": 3
   },
   "file_extension": ".py",
   "mimetype": "text/x-python",
   "name": "python",
   "nbconvert_exporter": "python",
   "pygments_lexer": "ipython3",
   "version": "3.12.3"
  }
 },
 "nbformat": 4,
 "nbformat_minor": 1
}
